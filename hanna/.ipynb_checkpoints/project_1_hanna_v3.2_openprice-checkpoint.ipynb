{
 "cells": [
  {
   "cell_type": "markdown",
   "id": "5f466db7-14ed-4a2d-a654-35e17ff1c4cb",
   "metadata": {},
   "source": [
    "# FINTECH BOOTCAMP \n",
    "\n",
    "PROJECT 1: BABY STEP - BACKTESTING\n",
    "---\n",
    "###.[project info]"
   ]
  },
  {
   "cell_type": "markdown",
   "id": "cdabd81f-7085-4996-b647-456dc57aff49",
   "metadata": {},
   "source": [
    "## Team member:\n",
    "__\n"
   ]
  },
  {
   "cell_type": "markdown",
   "id": "d4587711-01d0-498a-ae62-d2b70264599d",
   "metadata": {},
   "source": [
    "## Project description\n",
    "\n",
    "\n",
    "\n"
   ]
  },
  {
   "cell_type": "code",
   "execution_count": 1,
   "id": "f8e951be-debb-46c7-8e70-240203973585",
   "metadata": {},
   "outputs": [
    {
     "data": {
      "application/javascript": [
       "\n",
       "(function(root) {\n",
       "  function now() {\n",
       "    return new Date();\n",
       "  }\n",
       "\n",
       "  var force = true;\n",
       "\n",
       "  if (typeof root._bokeh_onload_callbacks === \"undefined\" || force === true) {\n",
       "    root._bokeh_onload_callbacks = [];\n",
       "    root._bokeh_is_loading = undefined;\n",
       "  }\n",
       "\n",
       "  if (typeof (root._bokeh_timeout) === \"undefined\" || force === true) {\n",
       "    root._bokeh_timeout = Date.now() + 5000;\n",
       "    root._bokeh_failed_load = false;\n",
       "  }\n",
       "\n",
       "  function run_callbacks() {\n",
       "    try {\n",
       "      root._bokeh_onload_callbacks.forEach(function(callback) {\n",
       "        if (callback != null)\n",
       "          callback();\n",
       "      });\n",
       "    } finally {\n",
       "      delete root._bokeh_onload_callbacks\n",
       "    }\n",
       "    console.debug(\"Bokeh: all callbacks have finished\");\n",
       "  }\n",
       "\n",
       "  function load_libs(css_urls, js_urls, js_modules, callback) {\n",
       "    if (css_urls == null) css_urls = [];\n",
       "    if (js_urls == null) js_urls = [];\n",
       "    if (js_modules == null) js_modules = [];\n",
       "\n",
       "    root._bokeh_onload_callbacks.push(callback);\n",
       "    if (root._bokeh_is_loading > 0) {\n",
       "      console.debug(\"Bokeh: BokehJS is being loaded, scheduling callback at\", now());\n",
       "      return null;\n",
       "    }\n",
       "    if (js_urls.length === 0 && js_modules.length === 0) {\n",
       "      run_callbacks();\n",
       "      return null;\n",
       "    }\n",
       "    console.debug(\"Bokeh: BokehJS not loaded, scheduling load and callback at\", now());\n",
       "    root._bokeh_is_loading = css_urls.length + js_urls.length + js_modules.length;\n",
       "\n",
       "    function on_load() {\n",
       "      root._bokeh_is_loading--;\n",
       "      if (root._bokeh_is_loading === 0) {\n",
       "        console.debug(\"Bokeh: all BokehJS libraries/stylesheets loaded\");\n",
       "        run_callbacks()\n",
       "      }\n",
       "    }\n",
       "\n",
       "    function on_error() {\n",
       "      console.error(\"failed to load \" + url);\n",
       "    }\n",
       "\n",
       "    for (var i = 0; i < css_urls.length; i++) {\n",
       "      var url = css_urls[i];\n",
       "      const element = document.createElement(\"link\");\n",
       "      element.onload = on_load;\n",
       "      element.onerror = on_error;\n",
       "      element.rel = \"stylesheet\";\n",
       "      element.type = \"text/css\";\n",
       "      element.href = url;\n",
       "      console.debug(\"Bokeh: injecting link tag for BokehJS stylesheet: \", url);\n",
       "      document.body.appendChild(element);\n",
       "    }\n",
       "\n",
       "    var skip = [];\n",
       "    if (window.requirejs) {\n",
       "      window.requirejs.config({'packages': {}, 'paths': {'plotly': 'https://cdn.plot.ly/plotly-latest.min'}, 'shim': {}});\n",
       "      \n",
       "      require([\"plotly\"], function(Plotly) {\n",
       "\twindow.Plotly = Plotly\n",
       "      })\n",
       "      \n",
       "    }\n",
       "    if (((window['Plotly'] !== undefined) && (!(window['Plotly'] instanceof HTMLElement))) || window.requirejs) {\n",
       "      var urls = ['https://cdn.plot.ly/plotly-latest.min.js'];\n",
       "      for (var i = 0; i < urls.length; i++) {\n",
       "        skip.push(urls[i])\n",
       "      }\n",
       "    }\n",
       "    for (var i = 0; i < js_urls.length; i++) {\n",
       "      var url = js_urls[i];\n",
       "      if (skip.indexOf(url) >= 0) { on_load(); continue; }\n",
       "      var element = document.createElement('script');\n",
       "      element.onload = on_load;\n",
       "      element.onerror = on_error;\n",
       "      element.async = false;\n",
       "      element.src = url;\n",
       "      console.debug(\"Bokeh: injecting script tag for BokehJS library: \", url);\n",
       "      document.head.appendChild(element);\n",
       "    }\n",
       "    for (var i = 0; i < js_modules.length; i++) {\n",
       "      var url = js_modules[i];\n",
       "      if (skip.indexOf(url) >= 0) { on_load(); continue; }\n",
       "      var element = document.createElement('script');\n",
       "      element.onload = on_load;\n",
       "      element.onerror = on_error;\n",
       "      element.async = false;\n",
       "      element.src = url;\n",
       "      element.type = \"module\";\n",
       "      console.debug(\"Bokeh: injecting script tag for BokehJS library: \", url);\n",
       "      document.head.appendChild(element);\n",
       "    }\n",
       "    if (!js_urls.length && !js_modules.length) {\n",
       "      on_load()\n",
       "    }\n",
       "  };\n",
       "\n",
       "  function inject_raw_css(css) {\n",
       "    const element = document.createElement(\"style\");\n",
       "    element.appendChild(document.createTextNode(css));\n",
       "    document.body.appendChild(element);\n",
       "  }\n",
       "\n",
       "  var js_urls = [\"https://code.jquery.com/jquery-3.4.1.min.js\", \"https://cdn.plot.ly/plotly-latest.min.js\", \"https://cdn.bokeh.org/bokeh/release/bokeh-2.3.2.min.js\", \"https://cdn.bokeh.org/bokeh/release/bokeh-widgets-2.3.2.min.js\", \"https://cdn.bokeh.org/bokeh/release/bokeh-tables-2.3.2.min.js\", \"https://unpkg.com/@holoviz/panel@^0.13.0-a.5/dist/panel.min.js\"];\n",
       "  var js_modules = [];\n",
       "  var css_urls = [\"https://unpkg.com/@holoviz/panel@0.13.0-a.5/dist/css/alerts.css\", \"https://unpkg.com/@holoviz/panel@0.13.0-a.5/dist/css/card.css\", \"https://unpkg.com/@holoviz/panel@0.13.0-a.5/dist/css/dataframe.css\", \"https://unpkg.com/@holoviz/panel@0.13.0-a.5/dist/css/json.css\", \"https://unpkg.com/@holoviz/panel@0.13.0-a.5/dist/css/loading.css\", \"https://unpkg.com/@holoviz/panel@0.13.0-a.5/dist/css/markdown.css\", \"https://unpkg.com/@holoviz/panel@0.13.0-a.5/dist/css/widgets.css\"];\n",
       "  var inline_js = [\n",
       "    function(Bokeh) {\n",
       "      inject_raw_css(\"\\n    .bk.pn-loading.arcs:before {\\n      background-image: url(\\\"data:image/svg+xml;base64,PHN2ZyB4bWxucz0iaHR0cDovL3d3dy53My5vcmcvMjAwMC9zdmciIHhtbG5zOnhsaW5rPSJodHRwOi8vd3d3LnczLm9yZy8xOTk5L3hsaW5rIiBzdHlsZT0ibWFyZ2luOiBhdXRvOyBiYWNrZ3JvdW5kOiBub25lOyBkaXNwbGF5OiBibG9jazsgc2hhcGUtcmVuZGVyaW5nOiBhdXRvOyIgdmlld0JveD0iMCAwIDEwMCAxMDAiIHByZXNlcnZlQXNwZWN0UmF0aW89InhNaWRZTWlkIj4gIDxjaXJjbGUgY3g9IjUwIiBjeT0iNTAiIHI9IjMyIiBzdHJva2Utd2lkdGg9IjgiIHN0cm9rZT0iI2MzYzNjMyIgc3Ryb2tlLWRhc2hhcnJheT0iNTAuMjY1NDgyNDU3NDM2NjkgNTAuMjY1NDgyNDU3NDM2NjkiIGZpbGw9Im5vbmUiIHN0cm9rZS1saW5lY2FwPSJyb3VuZCI+ICAgIDxhbmltYXRlVHJhbnNmb3JtIGF0dHJpYnV0ZU5hbWU9InRyYW5zZm9ybSIgdHlwZT0icm90YXRlIiByZXBlYXRDb3VudD0iaW5kZWZpbml0ZSIgZHVyPSIxcyIga2V5VGltZXM9IjA7MSIgdmFsdWVzPSIwIDUwIDUwOzM2MCA1MCA1MCI+PC9hbmltYXRlVHJhbnNmb3JtPiAgPC9jaXJjbGU+PC9zdmc+\\\")\\n    }\\n    \");\n",
       "    },\n",
       "    function(Bokeh) {\n",
       "      Bokeh.set_log_level(\"info\");\n",
       "    },\n",
       "    function(Bokeh) {} // ensure no trailing comma for IE\n",
       "  ];\n",
       "\n",
       "  function run_inline_js() {\n",
       "    if ((root.Bokeh !== undefined) || (force === true)) {\n",
       "      for (var i = 0; i < inline_js.length; i++) {\n",
       "        inline_js[i].call(root, root.Bokeh);\n",
       "      }} else if (Date.now() < root._bokeh_timeout) {\n",
       "      setTimeout(run_inline_js, 100);\n",
       "    } else if (!root._bokeh_failed_load) {\n",
       "      console.log(\"Bokeh: BokehJS failed to load within specified timeout.\");\n",
       "      root._bokeh_failed_load = true;\n",
       "    }\n",
       "  }\n",
       "\n",
       "  if (root._bokeh_is_loading === 0) {\n",
       "    console.debug(\"Bokeh: BokehJS loaded, going straight to plotting\");\n",
       "    run_inline_js();\n",
       "  } else {\n",
       "    load_libs(css_urls, js_urls, js_modules, function() {\n",
       "      console.debug(\"Bokeh: BokehJS plotting callback run at\", now());\n",
       "      run_inline_js();\n",
       "    });\n",
       "  }\n",
       "}(window));"
      ],
      "application/vnd.holoviews_load.v0+json": "\n(function(root) {\n  function now() {\n    return new Date();\n  }\n\n  var force = true;\n\n  if (typeof root._bokeh_onload_callbacks === \"undefined\" || force === true) {\n    root._bokeh_onload_callbacks = [];\n    root._bokeh_is_loading = undefined;\n  }\n\n  if (typeof (root._bokeh_timeout) === \"undefined\" || force === true) {\n    root._bokeh_timeout = Date.now() + 5000;\n    root._bokeh_failed_load = false;\n  }\n\n  function run_callbacks() {\n    try {\n      root._bokeh_onload_callbacks.forEach(function(callback) {\n        if (callback != null)\n          callback();\n      });\n    } finally {\n      delete root._bokeh_onload_callbacks\n    }\n    console.debug(\"Bokeh: all callbacks have finished\");\n  }\n\n  function load_libs(css_urls, js_urls, js_modules, callback) {\n    if (css_urls == null) css_urls = [];\n    if (js_urls == null) js_urls = [];\n    if (js_modules == null) js_modules = [];\n\n    root._bokeh_onload_callbacks.push(callback);\n    if (root._bokeh_is_loading > 0) {\n      console.debug(\"Bokeh: BokehJS is being loaded, scheduling callback at\", now());\n      return null;\n    }\n    if (js_urls.length === 0 && js_modules.length === 0) {\n      run_callbacks();\n      return null;\n    }\n    console.debug(\"Bokeh: BokehJS not loaded, scheduling load and callback at\", now());\n    root._bokeh_is_loading = css_urls.length + js_urls.length + js_modules.length;\n\n    function on_load() {\n      root._bokeh_is_loading--;\n      if (root._bokeh_is_loading === 0) {\n        console.debug(\"Bokeh: all BokehJS libraries/stylesheets loaded\");\n        run_callbacks()\n      }\n    }\n\n    function on_error() {\n      console.error(\"failed to load \" + url);\n    }\n\n    for (var i = 0; i < css_urls.length; i++) {\n      var url = css_urls[i];\n      const element = document.createElement(\"link\");\n      element.onload = on_load;\n      element.onerror = on_error;\n      element.rel = \"stylesheet\";\n      element.type = \"text/css\";\n      element.href = url;\n      console.debug(\"Bokeh: injecting link tag for BokehJS stylesheet: \", url);\n      document.body.appendChild(element);\n    }\n\n    var skip = [];\n    if (window.requirejs) {\n      window.requirejs.config({'packages': {}, 'paths': {'plotly': 'https://cdn.plot.ly/plotly-latest.min'}, 'shim': {}});\n      \n      require([\"plotly\"], function(Plotly) {\n\twindow.Plotly = Plotly\n      })\n      \n    }\n    if (((window['Plotly'] !== undefined) && (!(window['Plotly'] instanceof HTMLElement))) || window.requirejs) {\n      var urls = ['https://cdn.plot.ly/plotly-latest.min.js'];\n      for (var i = 0; i < urls.length; i++) {\n        skip.push(urls[i])\n      }\n    }\n    for (var i = 0; i < js_urls.length; i++) {\n      var url = js_urls[i];\n      if (skip.indexOf(url) >= 0) { on_load(); continue; }\n      var element = document.createElement('script');\n      element.onload = on_load;\n      element.onerror = on_error;\n      element.async = false;\n      element.src = url;\n      console.debug(\"Bokeh: injecting script tag for BokehJS library: \", url);\n      document.head.appendChild(element);\n    }\n    for (var i = 0; i < js_modules.length; i++) {\n      var url = js_modules[i];\n      if (skip.indexOf(url) >= 0) { on_load(); continue; }\n      var element = document.createElement('script');\n      element.onload = on_load;\n      element.onerror = on_error;\n      element.async = false;\n      element.src = url;\n      element.type = \"module\";\n      console.debug(\"Bokeh: injecting script tag for BokehJS library: \", url);\n      document.head.appendChild(element);\n    }\n    if (!js_urls.length && !js_modules.length) {\n      on_load()\n    }\n  };\n\n  function inject_raw_css(css) {\n    const element = document.createElement(\"style\");\n    element.appendChild(document.createTextNode(css));\n    document.body.appendChild(element);\n  }\n\n  var js_urls = [\"https://code.jquery.com/jquery-3.4.1.min.js\", \"https://cdn.plot.ly/plotly-latest.min.js\", \"https://cdn.bokeh.org/bokeh/release/bokeh-2.3.2.min.js\", \"https://cdn.bokeh.org/bokeh/release/bokeh-widgets-2.3.2.min.js\", \"https://cdn.bokeh.org/bokeh/release/bokeh-tables-2.3.2.min.js\", \"https://unpkg.com/@holoviz/panel@^0.13.0-a.5/dist/panel.min.js\"];\n  var js_modules = [];\n  var css_urls = [\"https://unpkg.com/@holoviz/panel@0.13.0-a.5/dist/css/alerts.css\", \"https://unpkg.com/@holoviz/panel@0.13.0-a.5/dist/css/card.css\", \"https://unpkg.com/@holoviz/panel@0.13.0-a.5/dist/css/dataframe.css\", \"https://unpkg.com/@holoviz/panel@0.13.0-a.5/dist/css/json.css\", \"https://unpkg.com/@holoviz/panel@0.13.0-a.5/dist/css/loading.css\", \"https://unpkg.com/@holoviz/panel@0.13.0-a.5/dist/css/markdown.css\", \"https://unpkg.com/@holoviz/panel@0.13.0-a.5/dist/css/widgets.css\"];\n  var inline_js = [\n    function(Bokeh) {\n      inject_raw_css(\"\\n    .bk.pn-loading.arcs:before {\\n      background-image: url(\\\"data:image/svg+xml;base64,PHN2ZyB4bWxucz0iaHR0cDovL3d3dy53My5vcmcvMjAwMC9zdmciIHhtbG5zOnhsaW5rPSJodHRwOi8vd3d3LnczLm9yZy8xOTk5L3hsaW5rIiBzdHlsZT0ibWFyZ2luOiBhdXRvOyBiYWNrZ3JvdW5kOiBub25lOyBkaXNwbGF5OiBibG9jazsgc2hhcGUtcmVuZGVyaW5nOiBhdXRvOyIgdmlld0JveD0iMCAwIDEwMCAxMDAiIHByZXNlcnZlQXNwZWN0UmF0aW89InhNaWRZTWlkIj4gIDxjaXJjbGUgY3g9IjUwIiBjeT0iNTAiIHI9IjMyIiBzdHJva2Utd2lkdGg9IjgiIHN0cm9rZT0iI2MzYzNjMyIgc3Ryb2tlLWRhc2hhcnJheT0iNTAuMjY1NDgyNDU3NDM2NjkgNTAuMjY1NDgyNDU3NDM2NjkiIGZpbGw9Im5vbmUiIHN0cm9rZS1saW5lY2FwPSJyb3VuZCI+ICAgIDxhbmltYXRlVHJhbnNmb3JtIGF0dHJpYnV0ZU5hbWU9InRyYW5zZm9ybSIgdHlwZT0icm90YXRlIiByZXBlYXRDb3VudD0iaW5kZWZpbml0ZSIgZHVyPSIxcyIga2V5VGltZXM9IjA7MSIgdmFsdWVzPSIwIDUwIDUwOzM2MCA1MCA1MCI+PC9hbmltYXRlVHJhbnNmb3JtPiAgPC9jaXJjbGU+PC9zdmc+\\\")\\n    }\\n    \");\n    },\n    function(Bokeh) {\n      Bokeh.set_log_level(\"info\");\n    },\n    function(Bokeh) {} // ensure no trailing comma for IE\n  ];\n\n  function run_inline_js() {\n    if ((root.Bokeh !== undefined) || (force === true)) {\n      for (var i = 0; i < inline_js.length; i++) {\n        inline_js[i].call(root, root.Bokeh);\n      }} else if (Date.now() < root._bokeh_timeout) {\n      setTimeout(run_inline_js, 100);\n    } else if (!root._bokeh_failed_load) {\n      console.log(\"Bokeh: BokehJS failed to load within specified timeout.\");\n      root._bokeh_failed_load = true;\n    }\n  }\n\n  if (root._bokeh_is_loading === 0) {\n    console.debug(\"Bokeh: BokehJS loaded, going straight to plotting\");\n    run_inline_js();\n  } else {\n    load_libs(css_urls, js_urls, js_modules, function() {\n      console.debug(\"Bokeh: BokehJS plotting callback run at\", now());\n      run_inline_js();\n    });\n  }\n}(window));"
     },
     "metadata": {},
     "output_type": "display_data"
    },
    {
     "data": {
      "application/javascript": [
       "\n",
       "if ((window.PyViz === undefined) || (window.PyViz instanceof HTMLElement)) {\n",
       "  window.PyViz = {comms: {}, comm_status:{}, kernels:{}, receivers: {}, plot_index: []}\n",
       "}\n",
       "\n",
       "\n",
       "    function JupyterCommManager() {\n",
       "    }\n",
       "\n",
       "    JupyterCommManager.prototype.register_target = function(plot_id, comm_id, msg_handler) {\n",
       "      if (window.comm_manager || ((window.Jupyter !== undefined) && (Jupyter.notebook.kernel != null))) {\n",
       "        var comm_manager = window.comm_manager || Jupyter.notebook.kernel.comm_manager;\n",
       "        comm_manager.register_target(comm_id, function(comm) {\n",
       "          comm.on_msg(msg_handler);\n",
       "        });\n",
       "      } else if ((plot_id in window.PyViz.kernels) && (window.PyViz.kernels[plot_id])) {\n",
       "        window.PyViz.kernels[plot_id].registerCommTarget(comm_id, function(comm) {\n",
       "          comm.onMsg = msg_handler;\n",
       "        });\n",
       "      } else if (typeof google != 'undefined' && google.colab.kernel != null) {\n",
       "        google.colab.kernel.comms.registerTarget(comm_id, (comm) => {\n",
       "          var messages = comm.messages[Symbol.asyncIterator]();\n",
       "          function processIteratorResult(result) {\n",
       "            var message = result.value;\n",
       "            console.log(message)\n",
       "            var content = {data: message.data, comm_id};\n",
       "            var buffers = []\n",
       "            for (var buffer of message.buffers || []) {\n",
       "              buffers.push(new DataView(buffer))\n",
       "            }\n",
       "            var metadata = message.metadata || {};\n",
       "            var msg = {content, buffers, metadata}\n",
       "            msg_handler(msg);\n",
       "            return messages.next().then(processIteratorResult);\n",
       "          }\n",
       "          return messages.next().then(processIteratorResult);\n",
       "        })\n",
       "      }\n",
       "    }\n",
       "\n",
       "    JupyterCommManager.prototype.get_client_comm = function(plot_id, comm_id, msg_handler) {\n",
       "      if (comm_id in window.PyViz.comms) {\n",
       "        return window.PyViz.comms[comm_id];\n",
       "      } else if (window.comm_manager || ((window.Jupyter !== undefined) && (Jupyter.notebook.kernel != null))) {\n",
       "        var comm_manager = window.comm_manager || Jupyter.notebook.kernel.comm_manager;\n",
       "        var comm = comm_manager.new_comm(comm_id, {}, {}, {}, comm_id);\n",
       "        if (msg_handler) {\n",
       "          comm.on_msg(msg_handler);\n",
       "        }\n",
       "      } else if ((plot_id in window.PyViz.kernels) && (window.PyViz.kernels[plot_id])) {\n",
       "        var comm = window.PyViz.kernels[plot_id].connectToComm(comm_id);\n",
       "        comm.open();\n",
       "        if (msg_handler) {\n",
       "          comm.onMsg = msg_handler;\n",
       "        }\n",
       "      } else if (typeof google != 'undefined' && google.colab.kernel != null) {\n",
       "        var comm_promise = google.colab.kernel.comms.open(comm_id)\n",
       "        comm_promise.then((comm) => {\n",
       "          window.PyViz.comms[comm_id] = comm;\n",
       "          if (msg_handler) {\n",
       "            var messages = comm.messages[Symbol.asyncIterator]();\n",
       "            function processIteratorResult(result) {\n",
       "              var message = result.value;\n",
       "              var content = {data: message.data};\n",
       "              var metadata = message.metadata || {comm_id};\n",
       "              var msg = {content, metadata}\n",
       "              msg_handler(msg);\n",
       "              return messages.next().then(processIteratorResult);\n",
       "            }\n",
       "            return messages.next().then(processIteratorResult);\n",
       "          }\n",
       "        }) \n",
       "        var sendClosure = (data, metadata, buffers, disposeOnDone) => {\n",
       "          return comm_promise.then((comm) => {\n",
       "            comm.send(data, metadata, buffers, disposeOnDone);\n",
       "          });\n",
       "        };\n",
       "        var comm = {\n",
       "          send: sendClosure\n",
       "        };\n",
       "      }\n",
       "      window.PyViz.comms[comm_id] = comm;\n",
       "      return comm;\n",
       "    }\n",
       "    window.PyViz.comm_manager = new JupyterCommManager();\n",
       "    \n",
       "\n",
       "\n",
       "var JS_MIME_TYPE = 'application/javascript';\n",
       "var HTML_MIME_TYPE = 'text/html';\n",
       "var EXEC_MIME_TYPE = 'application/vnd.holoviews_exec.v0+json';\n",
       "var CLASS_NAME = 'output';\n",
       "\n",
       "/**\n",
       " * Render data to the DOM node\n",
       " */\n",
       "function render(props, node) {\n",
       "  var div = document.createElement(\"div\");\n",
       "  var script = document.createElement(\"script\");\n",
       "  node.appendChild(div);\n",
       "  node.appendChild(script);\n",
       "}\n",
       "\n",
       "/**\n",
       " * Handle when a new output is added\n",
       " */\n",
       "function handle_add_output(event, handle) {\n",
       "  var output_area = handle.output_area;\n",
       "  var output = handle.output;\n",
       "  if ((output.data == undefined) || (!output.data.hasOwnProperty(EXEC_MIME_TYPE))) {\n",
       "    return\n",
       "  }\n",
       "  var id = output.metadata[EXEC_MIME_TYPE][\"id\"];\n",
       "  var toinsert = output_area.element.find(\".\" + CLASS_NAME.split(' ')[0]);\n",
       "  if (id !== undefined) {\n",
       "    var nchildren = toinsert.length;\n",
       "    var html_node = toinsert[nchildren-1].children[0];\n",
       "    html_node.innerHTML = output.data[HTML_MIME_TYPE];\n",
       "    var scripts = [];\n",
       "    var nodelist = html_node.querySelectorAll(\"script\");\n",
       "    for (var i in nodelist) {\n",
       "      if (nodelist.hasOwnProperty(i)) {\n",
       "        scripts.push(nodelist[i])\n",
       "      }\n",
       "    }\n",
       "\n",
       "    scripts.forEach( function (oldScript) {\n",
       "      var newScript = document.createElement(\"script\");\n",
       "      var attrs = [];\n",
       "      var nodemap = oldScript.attributes;\n",
       "      for (var j in nodemap) {\n",
       "        if (nodemap.hasOwnProperty(j)) {\n",
       "          attrs.push(nodemap[j])\n",
       "        }\n",
       "      }\n",
       "      attrs.forEach(function(attr) { newScript.setAttribute(attr.name, attr.value) });\n",
       "      newScript.appendChild(document.createTextNode(oldScript.innerHTML));\n",
       "      oldScript.parentNode.replaceChild(newScript, oldScript);\n",
       "    });\n",
       "    if (JS_MIME_TYPE in output.data) {\n",
       "      toinsert[nchildren-1].children[1].textContent = output.data[JS_MIME_TYPE];\n",
       "    }\n",
       "    output_area._hv_plot_id = id;\n",
       "    if ((window.Bokeh !== undefined) && (id in Bokeh.index)) {\n",
       "      window.PyViz.plot_index[id] = Bokeh.index[id];\n",
       "    } else {\n",
       "      window.PyViz.plot_index[id] = null;\n",
       "    }\n",
       "  } else if (output.metadata[EXEC_MIME_TYPE][\"server_id\"] !== undefined) {\n",
       "    var bk_div = document.createElement(\"div\");\n",
       "    bk_div.innerHTML = output.data[HTML_MIME_TYPE];\n",
       "    var script_attrs = bk_div.children[0].attributes;\n",
       "    for (var i = 0; i < script_attrs.length; i++) {\n",
       "      toinsert[toinsert.length - 1].childNodes[1].setAttribute(script_attrs[i].name, script_attrs[i].value);\n",
       "    }\n",
       "    // store reference to server id on output_area\n",
       "    output_area._bokeh_server_id = output.metadata[EXEC_MIME_TYPE][\"server_id\"];\n",
       "  }\n",
       "}\n",
       "\n",
       "/**\n",
       " * Handle when an output is cleared or removed\n",
       " */\n",
       "function handle_clear_output(event, handle) {\n",
       "  var id = handle.cell.output_area._hv_plot_id;\n",
       "  var server_id = handle.cell.output_area._bokeh_server_id;\n",
       "  if (((id === undefined) || !(id in PyViz.plot_index)) && (server_id !== undefined)) { return; }\n",
       "  var comm = window.PyViz.comm_manager.get_client_comm(\"hv-extension-comm\", \"hv-extension-comm\", function () {});\n",
       "  if (server_id !== null) {\n",
       "    comm.send({event_type: 'server_delete', 'id': server_id});\n",
       "    return;\n",
       "  } else if (comm !== null) {\n",
       "    comm.send({event_type: 'delete', 'id': id});\n",
       "  }\n",
       "  delete PyViz.plot_index[id];\n",
       "  if ((window.Bokeh !== undefined) & (id in window.Bokeh.index)) {\n",
       "    var doc = window.Bokeh.index[id].model.document\n",
       "    doc.clear();\n",
       "    const i = window.Bokeh.documents.indexOf(doc);\n",
       "    if (i > -1) {\n",
       "      window.Bokeh.documents.splice(i, 1);\n",
       "    }\n",
       "  }\n",
       "}\n",
       "\n",
       "/**\n",
       " * Handle kernel restart event\n",
       " */\n",
       "function handle_kernel_cleanup(event, handle) {\n",
       "  delete PyViz.comms[\"hv-extension-comm\"];\n",
       "  window.PyViz.plot_index = {}\n",
       "}\n",
       "\n",
       "/**\n",
       " * Handle update_display_data messages\n",
       " */\n",
       "function handle_update_output(event, handle) {\n",
       "  handle_clear_output(event, {cell: {output_area: handle.output_area}})\n",
       "  handle_add_output(event, handle)\n",
       "}\n",
       "\n",
       "function register_renderer(events, OutputArea) {\n",
       "  function append_mime(data, metadata, element) {\n",
       "    // create a DOM node to render to\n",
       "    var toinsert = this.create_output_subarea(\n",
       "    metadata,\n",
       "    CLASS_NAME,\n",
       "    EXEC_MIME_TYPE\n",
       "    );\n",
       "    this.keyboard_manager.register_events(toinsert);\n",
       "    // Render to node\n",
       "    var props = {data: data, metadata: metadata[EXEC_MIME_TYPE]};\n",
       "    render(props, toinsert[0]);\n",
       "    element.append(toinsert);\n",
       "    return toinsert\n",
       "  }\n",
       "\n",
       "  events.on('output_added.OutputArea', handle_add_output);\n",
       "  events.on('output_updated.OutputArea', handle_update_output);\n",
       "  events.on('clear_output.CodeCell', handle_clear_output);\n",
       "  events.on('delete.Cell', handle_clear_output);\n",
       "  events.on('kernel_ready.Kernel', handle_kernel_cleanup);\n",
       "\n",
       "  OutputArea.prototype.register_mime_type(EXEC_MIME_TYPE, append_mime, {\n",
       "    safe: true,\n",
       "    index: 0\n",
       "  });\n",
       "}\n",
       "\n",
       "if (window.Jupyter !== undefined) {\n",
       "  try {\n",
       "    var events = require('base/js/events');\n",
       "    var OutputArea = require('notebook/js/outputarea').OutputArea;\n",
       "    if (OutputArea.prototype.mime_types().indexOf(EXEC_MIME_TYPE) == -1) {\n",
       "      register_renderer(events, OutputArea);\n",
       "    }\n",
       "  } catch(err) {\n",
       "  }\n",
       "}\n"
      ],
      "application/vnd.holoviews_load.v0+json": "\nif ((window.PyViz === undefined) || (window.PyViz instanceof HTMLElement)) {\n  window.PyViz = {comms: {}, comm_status:{}, kernels:{}, receivers: {}, plot_index: []}\n}\n\n\n    function JupyterCommManager() {\n    }\n\n    JupyterCommManager.prototype.register_target = function(plot_id, comm_id, msg_handler) {\n      if (window.comm_manager || ((window.Jupyter !== undefined) && (Jupyter.notebook.kernel != null))) {\n        var comm_manager = window.comm_manager || Jupyter.notebook.kernel.comm_manager;\n        comm_manager.register_target(comm_id, function(comm) {\n          comm.on_msg(msg_handler);\n        });\n      } else if ((plot_id in window.PyViz.kernels) && (window.PyViz.kernels[plot_id])) {\n        window.PyViz.kernels[plot_id].registerCommTarget(comm_id, function(comm) {\n          comm.onMsg = msg_handler;\n        });\n      } else if (typeof google != 'undefined' && google.colab.kernel != null) {\n        google.colab.kernel.comms.registerTarget(comm_id, (comm) => {\n          var messages = comm.messages[Symbol.asyncIterator]();\n          function processIteratorResult(result) {\n            var message = result.value;\n            console.log(message)\n            var content = {data: message.data, comm_id};\n            var buffers = []\n            for (var buffer of message.buffers || []) {\n              buffers.push(new DataView(buffer))\n            }\n            var metadata = message.metadata || {};\n            var msg = {content, buffers, metadata}\n            msg_handler(msg);\n            return messages.next().then(processIteratorResult);\n          }\n          return messages.next().then(processIteratorResult);\n        })\n      }\n    }\n\n    JupyterCommManager.prototype.get_client_comm = function(plot_id, comm_id, msg_handler) {\n      if (comm_id in window.PyViz.comms) {\n        return window.PyViz.comms[comm_id];\n      } else if (window.comm_manager || ((window.Jupyter !== undefined) && (Jupyter.notebook.kernel != null))) {\n        var comm_manager = window.comm_manager || Jupyter.notebook.kernel.comm_manager;\n        var comm = comm_manager.new_comm(comm_id, {}, {}, {}, comm_id);\n        if (msg_handler) {\n          comm.on_msg(msg_handler);\n        }\n      } else if ((plot_id in window.PyViz.kernels) && (window.PyViz.kernels[plot_id])) {\n        var comm = window.PyViz.kernels[plot_id].connectToComm(comm_id);\n        comm.open();\n        if (msg_handler) {\n          comm.onMsg = msg_handler;\n        }\n      } else if (typeof google != 'undefined' && google.colab.kernel != null) {\n        var comm_promise = google.colab.kernel.comms.open(comm_id)\n        comm_promise.then((comm) => {\n          window.PyViz.comms[comm_id] = comm;\n          if (msg_handler) {\n            var messages = comm.messages[Symbol.asyncIterator]();\n            function processIteratorResult(result) {\n              var message = result.value;\n              var content = {data: message.data};\n              var metadata = message.metadata || {comm_id};\n              var msg = {content, metadata}\n              msg_handler(msg);\n              return messages.next().then(processIteratorResult);\n            }\n            return messages.next().then(processIteratorResult);\n          }\n        }) \n        var sendClosure = (data, metadata, buffers, disposeOnDone) => {\n          return comm_promise.then((comm) => {\n            comm.send(data, metadata, buffers, disposeOnDone);\n          });\n        };\n        var comm = {\n          send: sendClosure\n        };\n      }\n      window.PyViz.comms[comm_id] = comm;\n      return comm;\n    }\n    window.PyViz.comm_manager = new JupyterCommManager();\n    \n\n\nvar JS_MIME_TYPE = 'application/javascript';\nvar HTML_MIME_TYPE = 'text/html';\nvar EXEC_MIME_TYPE = 'application/vnd.holoviews_exec.v0+json';\nvar CLASS_NAME = 'output';\n\n/**\n * Render data to the DOM node\n */\nfunction render(props, node) {\n  var div = document.createElement(\"div\");\n  var script = document.createElement(\"script\");\n  node.appendChild(div);\n  node.appendChild(script);\n}\n\n/**\n * Handle when a new output is added\n */\nfunction handle_add_output(event, handle) {\n  var output_area = handle.output_area;\n  var output = handle.output;\n  if ((output.data == undefined) || (!output.data.hasOwnProperty(EXEC_MIME_TYPE))) {\n    return\n  }\n  var id = output.metadata[EXEC_MIME_TYPE][\"id\"];\n  var toinsert = output_area.element.find(\".\" + CLASS_NAME.split(' ')[0]);\n  if (id !== undefined) {\n    var nchildren = toinsert.length;\n    var html_node = toinsert[nchildren-1].children[0];\n    html_node.innerHTML = output.data[HTML_MIME_TYPE];\n    var scripts = [];\n    var nodelist = html_node.querySelectorAll(\"script\");\n    for (var i in nodelist) {\n      if (nodelist.hasOwnProperty(i)) {\n        scripts.push(nodelist[i])\n      }\n    }\n\n    scripts.forEach( function (oldScript) {\n      var newScript = document.createElement(\"script\");\n      var attrs = [];\n      var nodemap = oldScript.attributes;\n      for (var j in nodemap) {\n        if (nodemap.hasOwnProperty(j)) {\n          attrs.push(nodemap[j])\n        }\n      }\n      attrs.forEach(function(attr) { newScript.setAttribute(attr.name, attr.value) });\n      newScript.appendChild(document.createTextNode(oldScript.innerHTML));\n      oldScript.parentNode.replaceChild(newScript, oldScript);\n    });\n    if (JS_MIME_TYPE in output.data) {\n      toinsert[nchildren-1].children[1].textContent = output.data[JS_MIME_TYPE];\n    }\n    output_area._hv_plot_id = id;\n    if ((window.Bokeh !== undefined) && (id in Bokeh.index)) {\n      window.PyViz.plot_index[id] = Bokeh.index[id];\n    } else {\n      window.PyViz.plot_index[id] = null;\n    }\n  } else if (output.metadata[EXEC_MIME_TYPE][\"server_id\"] !== undefined) {\n    var bk_div = document.createElement(\"div\");\n    bk_div.innerHTML = output.data[HTML_MIME_TYPE];\n    var script_attrs = bk_div.children[0].attributes;\n    for (var i = 0; i < script_attrs.length; i++) {\n      toinsert[toinsert.length - 1].childNodes[1].setAttribute(script_attrs[i].name, script_attrs[i].value);\n    }\n    // store reference to server id on output_area\n    output_area._bokeh_server_id = output.metadata[EXEC_MIME_TYPE][\"server_id\"];\n  }\n}\n\n/**\n * Handle when an output is cleared or removed\n */\nfunction handle_clear_output(event, handle) {\n  var id = handle.cell.output_area._hv_plot_id;\n  var server_id = handle.cell.output_area._bokeh_server_id;\n  if (((id === undefined) || !(id in PyViz.plot_index)) && (server_id !== undefined)) { return; }\n  var comm = window.PyViz.comm_manager.get_client_comm(\"hv-extension-comm\", \"hv-extension-comm\", function () {});\n  if (server_id !== null) {\n    comm.send({event_type: 'server_delete', 'id': server_id});\n    return;\n  } else if (comm !== null) {\n    comm.send({event_type: 'delete', 'id': id});\n  }\n  delete PyViz.plot_index[id];\n  if ((window.Bokeh !== undefined) & (id in window.Bokeh.index)) {\n    var doc = window.Bokeh.index[id].model.document\n    doc.clear();\n    const i = window.Bokeh.documents.indexOf(doc);\n    if (i > -1) {\n      window.Bokeh.documents.splice(i, 1);\n    }\n  }\n}\n\n/**\n * Handle kernel restart event\n */\nfunction handle_kernel_cleanup(event, handle) {\n  delete PyViz.comms[\"hv-extension-comm\"];\n  window.PyViz.plot_index = {}\n}\n\n/**\n * Handle update_display_data messages\n */\nfunction handle_update_output(event, handle) {\n  handle_clear_output(event, {cell: {output_area: handle.output_area}})\n  handle_add_output(event, handle)\n}\n\nfunction register_renderer(events, OutputArea) {\n  function append_mime(data, metadata, element) {\n    // create a DOM node to render to\n    var toinsert = this.create_output_subarea(\n    metadata,\n    CLASS_NAME,\n    EXEC_MIME_TYPE\n    );\n    this.keyboard_manager.register_events(toinsert);\n    // Render to node\n    var props = {data: data, metadata: metadata[EXEC_MIME_TYPE]};\n    render(props, toinsert[0]);\n    element.append(toinsert);\n    return toinsert\n  }\n\n  events.on('output_added.OutputArea', handle_add_output);\n  events.on('output_updated.OutputArea', handle_update_output);\n  events.on('clear_output.CodeCell', handle_clear_output);\n  events.on('delete.Cell', handle_clear_output);\n  events.on('kernel_ready.Kernel', handle_kernel_cleanup);\n\n  OutputArea.prototype.register_mime_type(EXEC_MIME_TYPE, append_mime, {\n    safe: true,\n    index: 0\n  });\n}\n\nif (window.Jupyter !== undefined) {\n  try {\n    var events = require('base/js/events');\n    var OutputArea = require('notebook/js/outputarea').OutputArea;\n    if (OutputArea.prototype.mime_types().indexOf(EXEC_MIME_TYPE) == -1) {\n      register_renderer(events, OutputArea);\n    }\n  } catch(err) {\n  }\n}\n"
     },
     "metadata": {},
     "output_type": "display_data"
    }
   ],
   "source": [
    "# Initial import all libraries\n",
    "import panel as pn\n",
    "pn.extension('plotly')\n",
    "import datetime\n",
    "import numpy as np\n",
    "import pandas as pd\n",
    "from pandas_datareader import data\n",
    "import matplotlib.pyplot as plt\n",
    "import matplotlib.dates as mdates\n",
    "import yfinance as yf\n"
   ]
  },
  {
   "cell_type": "markdown",
   "id": "f92ad8aa-6dc0-4928-a95c-d46912aa31b2",
   "metadata": {},
   "source": [
    "## I. DATA READING AND CLEANING"
   ]
  },
  {
   "cell_type": "code",
   "execution_count": 2,
   "id": "bd04e528-609e-4dd6-8461-d6b0049b0f58",
   "metadata": {},
   "outputs": [
    {
     "data": {
      "text/plain": [
       "30.0"
      ]
     },
     "execution_count": 2,
     "metadata": {},
     "output_type": "execute_result"
    }
   ],
   "source": [
    "#Define the instruments to download data of S&P .\n",
    "tickers = ['SPY']\n",
    "\n",
    "# We would like all available data from 01/01/1999 until 12/31/2021.\n",
    "start_date = datetime.date(1992,1,1)\n",
    "end_date = datetime.date(2021,12,30)\n",
    "years = round((end_date - start_date).days/365,0)\n",
    "years"
   ]
  },
  {
   "cell_type": "code",
   "execution_count": 3,
   "id": "2a812928-996f-4f40-8844-8edfdbc47249",
   "metadata": {},
   "outputs": [
    {
     "data": {
      "text/plain": [
       "pandas.core.frame.DataFrame"
      ]
     },
     "execution_count": 3,
     "metadata": {},
     "output_type": "execute_result"
    }
   ],
   "source": [
    "# User pandas_reader.data.DataReader to load the desired data. \n",
    "panel_data = data.DataReader('SPY', 'yahoo', start_date, end_date)\n",
    "\n",
    "# Checkout the data type\n",
    "type(panel_data)"
   ]
  },
  {
   "cell_type": "code",
   "execution_count": 4,
   "id": "01af4beb-6fbe-459c-8ee9-db4a4578fc5a",
   "metadata": {},
   "outputs": [
    {
     "data": {
      "text/html": [
       "<div>\n",
       "<style scoped>\n",
       "    .dataframe tbody tr th:only-of-type {\n",
       "        vertical-align: middle;\n",
       "    }\n",
       "\n",
       "    .dataframe tbody tr th {\n",
       "        vertical-align: top;\n",
       "    }\n",
       "\n",
       "    .dataframe thead th {\n",
       "        text-align: right;\n",
       "    }\n",
       "</style>\n",
       "<table border=\"1\" class=\"dataframe\">\n",
       "  <thead>\n",
       "    <tr style=\"text-align: right;\">\n",
       "      <th></th>\n",
       "      <th>High</th>\n",
       "      <th>Low</th>\n",
       "      <th>Open</th>\n",
       "      <th>Close</th>\n",
       "      <th>Volume</th>\n",
       "      <th>Adj Close</th>\n",
       "    </tr>\n",
       "    <tr>\n",
       "      <th>Date</th>\n",
       "      <th></th>\n",
       "      <th></th>\n",
       "      <th></th>\n",
       "      <th></th>\n",
       "      <th></th>\n",
       "      <th></th>\n",
       "    </tr>\n",
       "  </thead>\n",
       "  <tbody>\n",
       "    <tr>\n",
       "      <th>1993-01-29</th>\n",
       "      <td>43.96875</td>\n",
       "      <td>43.75000</td>\n",
       "      <td>43.96875</td>\n",
       "      <td>43.93750</td>\n",
       "      <td>1003200.0</td>\n",
       "      <td>25.627340</td>\n",
       "    </tr>\n",
       "    <tr>\n",
       "      <th>1993-02-01</th>\n",
       "      <td>44.25000</td>\n",
       "      <td>43.96875</td>\n",
       "      <td>43.96875</td>\n",
       "      <td>44.25000</td>\n",
       "      <td>480500.0</td>\n",
       "      <td>25.809629</td>\n",
       "    </tr>\n",
       "    <tr>\n",
       "      <th>1993-02-02</th>\n",
       "      <td>44.37500</td>\n",
       "      <td>44.12500</td>\n",
       "      <td>44.21875</td>\n",
       "      <td>44.34375</td>\n",
       "      <td>201300.0</td>\n",
       "      <td>25.864298</td>\n",
       "    </tr>\n",
       "    <tr>\n",
       "      <th>1993-02-03</th>\n",
       "      <td>44.84375</td>\n",
       "      <td>44.37500</td>\n",
       "      <td>44.40625</td>\n",
       "      <td>44.81250</td>\n",
       "      <td>529400.0</td>\n",
       "      <td>26.137693</td>\n",
       "    </tr>\n",
       "    <tr>\n",
       "      <th>1993-02-04</th>\n",
       "      <td>45.09375</td>\n",
       "      <td>44.46875</td>\n",
       "      <td>44.96875</td>\n",
       "      <td>45.00000</td>\n",
       "      <td>531500.0</td>\n",
       "      <td>26.247061</td>\n",
       "    </tr>\n",
       "  </tbody>\n",
       "</table>\n",
       "</div>"
      ],
      "text/plain": [
       "                High       Low      Open     Close     Volume  Adj Close\n",
       "Date                                                                    \n",
       "1993-01-29  43.96875  43.75000  43.96875  43.93750  1003200.0  25.627340\n",
       "1993-02-01  44.25000  43.96875  43.96875  44.25000   480500.0  25.809629\n",
       "1993-02-02  44.37500  44.12500  44.21875  44.34375   201300.0  25.864298\n",
       "1993-02-03  44.84375  44.37500  44.40625  44.81250   529400.0  26.137693\n",
       "1993-02-04  45.09375  44.46875  44.96875  45.00000   531500.0  26.247061"
      ]
     },
     "execution_count": 4,
     "metadata": {},
     "output_type": "execute_result"
    }
   ],
   "source": [
    "# Check data\n",
    "panel_data.head()"
   ]
  },
  {
   "cell_type": "code",
   "execution_count": 5,
   "id": "bfb6d95d-3842-4417-b52a-1611d1706acf",
   "metadata": {},
   "outputs": [
    {
     "data": {
      "text/html": [
       "<div>\n",
       "<style scoped>\n",
       "    .dataframe tbody tr th:only-of-type {\n",
       "        vertical-align: middle;\n",
       "    }\n",
       "\n",
       "    .dataframe tbody tr th {\n",
       "        vertical-align: top;\n",
       "    }\n",
       "\n",
       "    .dataframe thead th {\n",
       "        text-align: right;\n",
       "    }\n",
       "</style>\n",
       "<table border=\"1\" class=\"dataframe\">\n",
       "  <thead>\n",
       "    <tr style=\"text-align: right;\">\n",
       "      <th></th>\n",
       "      <th>Open</th>\n",
       "      <th>Close</th>\n",
       "    </tr>\n",
       "    <tr>\n",
       "      <th>Date</th>\n",
       "      <th></th>\n",
       "      <th></th>\n",
       "    </tr>\n",
       "  </thead>\n",
       "  <tbody>\n",
       "    <tr>\n",
       "      <th>1993-01-29</th>\n",
       "      <td>43.96875</td>\n",
       "      <td>43.93750</td>\n",
       "    </tr>\n",
       "    <tr>\n",
       "      <th>1993-02-01</th>\n",
       "      <td>43.96875</td>\n",
       "      <td>44.25000</td>\n",
       "    </tr>\n",
       "    <tr>\n",
       "      <th>1993-02-02</th>\n",
       "      <td>44.21875</td>\n",
       "      <td>44.34375</td>\n",
       "    </tr>\n",
       "    <tr>\n",
       "      <th>1993-02-03</th>\n",
       "      <td>44.40625</td>\n",
       "      <td>44.81250</td>\n",
       "    </tr>\n",
       "    <tr>\n",
       "      <th>1993-02-04</th>\n",
       "      <td>44.96875</td>\n",
       "      <td>45.00000</td>\n",
       "    </tr>\n",
       "  </tbody>\n",
       "</table>\n",
       "</div>"
      ],
      "text/plain": [
       "                Open     Close\n",
       "Date                          \n",
       "1993-01-29  43.96875  43.93750\n",
       "1993-02-01  43.96875  44.25000\n",
       "1993-02-02  44.21875  44.34375\n",
       "1993-02-03  44.40625  44.81250\n",
       "1993-02-04  44.96875  45.00000"
      ]
     },
     "execution_count": 5,
     "metadata": {},
     "output_type": "execute_result"
    }
   ],
   "source": [
    "# Filter closing price only\n",
    "price = panel_data.drop(columns = [\"High\", \"Low\", \"Volume\", \"Adj Close\"])\n",
    "price.head()"
   ]
  },
  {
   "cell_type": "code",
   "execution_count": 6,
   "id": "d2cc870c-525e-428d-9dfb-b0a54913ead4",
   "metadata": {},
   "outputs": [
    {
     "data": {
      "text/html": [
       "<div>\n",
       "<style scoped>\n",
       "    .dataframe tbody tr th:only-of-type {\n",
       "        vertical-align: middle;\n",
       "    }\n",
       "\n",
       "    .dataframe tbody tr th {\n",
       "        vertical-align: top;\n",
       "    }\n",
       "\n",
       "    .dataframe thead th {\n",
       "        text-align: right;\n",
       "    }\n",
       "</style>\n",
       "<table border=\"1\" class=\"dataframe\">\n",
       "  <thead>\n",
       "    <tr style=\"text-align: right;\">\n",
       "      <th></th>\n",
       "      <th>Open</th>\n",
       "      <th>Close</th>\n",
       "    </tr>\n",
       "  </thead>\n",
       "  <tbody>\n",
       "    <tr>\n",
       "      <th>count</th>\n",
       "      <td>7284.000000</td>\n",
       "      <td>7284.000000</td>\n",
       "    </tr>\n",
       "    <tr>\n",
       "      <th>mean</th>\n",
       "      <td>153.380245</td>\n",
       "      <td>153.383274</td>\n",
       "    </tr>\n",
       "    <tr>\n",
       "      <th>std</th>\n",
       "      <td>87.078199</td>\n",
       "      <td>87.097841</td>\n",
       "    </tr>\n",
       "    <tr>\n",
       "      <th>min</th>\n",
       "      <td>43.343750</td>\n",
       "      <td>43.406250</td>\n",
       "    </tr>\n",
       "    <tr>\n",
       "      <th>25%</th>\n",
       "      <td>101.609999</td>\n",
       "      <td>101.611250</td>\n",
       "    </tr>\n",
       "    <tr>\n",
       "      <th>50%</th>\n",
       "      <td>128.754997</td>\n",
       "      <td>128.665001</td>\n",
       "    </tr>\n",
       "    <tr>\n",
       "      <th>75%</th>\n",
       "      <td>195.342499</td>\n",
       "      <td>195.557503</td>\n",
       "    </tr>\n",
       "    <tr>\n",
       "      <th>max</th>\n",
       "      <td>477.929993</td>\n",
       "      <td>477.480011</td>\n",
       "    </tr>\n",
       "  </tbody>\n",
       "</table>\n",
       "</div>"
      ],
      "text/plain": [
       "              Open        Close\n",
       "count  7284.000000  7284.000000\n",
       "mean    153.380245   153.383274\n",
       "std      87.078199    87.097841\n",
       "min      43.343750    43.406250\n",
       "25%     101.609999   101.611250\n",
       "50%     128.754997   128.665001\n",
       "75%     195.342499   195.557503\n",
       "max     477.929993   477.480011"
      ]
     },
     "execution_count": 6,
     "metadata": {},
     "output_type": "execute_result"
    }
   ],
   "source": [
    "# Describe data\n",
    "price.describe()"
   ]
  },
  {
   "cell_type": "code",
   "execution_count": 7,
   "id": "a90c7268-0f7a-4c9b-9e1a-53976c8736a8",
   "metadata": {},
   "outputs": [
    {
     "data": {
      "text/plain": [
       "Open     0\n",
       "Close    0\n",
       "dtype: int64"
      ]
     },
     "execution_count": 7,
     "metadata": {},
     "output_type": "execute_result"
    }
   ],
   "source": [
    "# Count nulls and drop nulls (in any)\n",
    "price.isnull().sum()"
   ]
  },
  {
   "cell_type": "code",
   "execution_count": 8,
   "id": "497b5a61-e692-4e77-bd18-4df6acb0ad03",
   "metadata": {},
   "outputs": [
    {
     "data": {
      "text/plain": [
       "Open     float64\n",
       "Close    float64\n",
       "dtype: object"
      ]
     },
     "execution_count": 8,
     "metadata": {},
     "output_type": "execute_result"
    }
   ],
   "source": [
    "# Check  if closing price is float \n",
    "price.dtypes"
   ]
  },
  {
   "cell_type": "markdown",
   "id": "7be2eea7-859c-4a03-8cfc-3df73bbef8c9",
   "metadata": {},
   "source": [
    "## II. CALCULATE SPY RETURN, CAGR, AND SHARPE RATIO  "
   ]
  },
  {
   "cell_type": "code",
   "execution_count": 9,
   "id": "76b90642-e9b3-44f3-96d2-48e20fc4c1b3",
   "metadata": {},
   "outputs": [],
   "source": [
    "inital_investment = 10000 "
   ]
  },
  {
   "cell_type": "code",
   "execution_count": 10,
   "id": "9019f975-eba8-4d79-bb76-f85ab960ed21",
   "metadata": {},
   "outputs": [
    {
     "data": {
      "text/plain": [
       "43.40625"
      ]
     },
     "execution_count": 10,
     "metadata": {},
     "output_type": "execute_result"
    }
   ],
   "source": [
    "# Find out min and max value\n",
    "min_spy = price[\"Close\"].min()\n",
    "min_spy"
   ]
  },
  {
   "cell_type": "code",
   "execution_count": 11,
   "id": "484f56fc-3ff8-4819-958c-ecb17cdc2398",
   "metadata": {},
   "outputs": [
    {
     "data": {
      "text/plain": [
       "477.4800109863281"
      ]
     },
     "execution_count": 11,
     "metadata": {},
     "output_type": "execute_result"
    }
   ],
   "source": [
    "max_spy = price[\"Close\"].max()\n",
    "max_spy"
   ]
  },
  {
   "cell_type": "code",
   "execution_count": 12,
   "id": "68c22d1f-1ea1-4ed8-8a24-3ea9715b5f3b",
   "metadata": {},
   "outputs": [],
   "source": [
    "def chart_spy ():\n",
    "    fig, ax = plt.subplots(figsize=(20, 10))\n",
    "    ax.plot(price[\"Close\"])\n",
    "    ax.set(xlabel = \"Year\",\n",
    "    ylabel = \"Price\")\n",
    "#     plt.yticks(np.linspace(min_spy.min(), max_spy.max(),10))\n",
    "    ax.xaxis.set_major_formatter(mdates.DateFormatter('%Y'))\n",
    "    ax.xaxis.set_major_locator(mdates.YearLocator(1))\n",
    "    return chart_spy\n",
    "#     return pn.pane.Matplotlib(tight= True)[in case of nto shown in dashboard]"
   ]
  },
  {
   "cell_type": "code",
   "execution_count": 13,
   "id": "bb3df297-7f3d-48e7-b1c4-103cef691d84",
   "metadata": {},
   "outputs": [
    {
     "data": {
      "text/plain": [
       "<function __main__.chart_spy()>"
      ]
     },
     "execution_count": 13,
     "metadata": {},
     "output_type": "execute_result"
    },
    {
     "data": {
      "image/png": "[encoded data removed]",
      "text/plain": [
       "<Figure size 1440x720 with 1 Axes>"
      ]
     },
     "metadata": {
      "needs_background": "light"
     },
     "output_type": "display_data"
    }
   ],
   "source": [
    "chart_spy()"
   ]
  },
  {
   "cell_type": "code",
   "execution_count": 39,
   "id": "c73e40f2-d475-4024-8181-1f95fff8dae5",
   "metadata": {},
   "outputs": [],
   "source": [
    "# Calculate returns for SPY as a benchmark and compound annual growth rate (CAGR)\n",
    "spy_daily_return = price\n",
    "spy_daily_return[\"BM Daily Return\"] = (price[\"Close\"]/price[\"Open\"]) - 1\n",
    "# spy_daily_return.rename(columns= {\"Close\" : \"BM Daily Return\"}, inplace = True)"
   ]
  },
  {
   "cell_type": "code",
   "execution_count": 43,
   "id": "b26fd3e4-55e5-430e-95a1-c98337020fb4",
   "metadata": {},
   "outputs": [
    {
     "data": {
      "text/html": [
       "<div>\n",
       "<style scoped>\n",
       "    .dataframe tbody tr th:only-of-type {\n",
       "        vertical-align: middle;\n",
       "    }\n",
       "\n",
       "    .dataframe tbody tr th {\n",
       "        vertical-align: top;\n",
       "    }\n",
       "\n",
       "    .dataframe thead th {\n",
       "        text-align: right;\n",
       "    }\n",
       "</style>\n",
       "<table border=\"1\" class=\"dataframe\">\n",
       "  <thead>\n",
       "    <tr style=\"text-align: right;\">\n",
       "      <th></th>\n",
       "      <th>Open</th>\n",
       "      <th>Close</th>\n",
       "      <th>BM Daily Return</th>\n",
       "      <th>BM Cumulative Return</th>\n",
       "    </tr>\n",
       "    <tr>\n",
       "      <th>Date</th>\n",
       "      <th></th>\n",
       "      <th></th>\n",
       "      <th></th>\n",
       "      <th></th>\n",
       "    </tr>\n",
       "  </thead>\n",
       "  <tbody>\n",
       "    <tr>\n",
       "      <th>1993-01-29</th>\n",
       "      <td>43.968750</td>\n",
       "      <td>43.937500</td>\n",
       "      <td>-0.000711</td>\n",
       "      <td>0.999289</td>\n",
       "    </tr>\n",
       "    <tr>\n",
       "      <th>1993-02-01</th>\n",
       "      <td>43.968750</td>\n",
       "      <td>44.250000</td>\n",
       "      <td>0.006397</td>\n",
       "      <td>1.005681</td>\n",
       "    </tr>\n",
       "    <tr>\n",
       "      <th>1993-02-02</th>\n",
       "      <td>44.218750</td>\n",
       "      <td>44.343750</td>\n",
       "      <td>0.002827</td>\n",
       "      <td>1.008524</td>\n",
       "    </tr>\n",
       "    <tr>\n",
       "      <th>1993-02-03</th>\n",
       "      <td>44.406250</td>\n",
       "      <td>44.812500</td>\n",
       "      <td>0.009148</td>\n",
       "      <td>1.017751</td>\n",
       "    </tr>\n",
       "    <tr>\n",
       "      <th>1993-02-04</th>\n",
       "      <td>44.968750</td>\n",
       "      <td>45.000000</td>\n",
       "      <td>0.000695</td>\n",
       "      <td>1.018458</td>\n",
       "    </tr>\n",
       "    <tr>\n",
       "      <th>...</th>\n",
       "      <td>...</td>\n",
       "      <td>...</td>\n",
       "      <td>...</td>\n",
       "      <td>...</td>\n",
       "    </tr>\n",
       "    <tr>\n",
       "      <th>2021-12-23</th>\n",
       "      <td>468.750000</td>\n",
       "      <td>470.600006</td>\n",
       "      <td>0.003947</td>\n",
       "      <td>0.988437</td>\n",
       "    </tr>\n",
       "    <tr>\n",
       "      <th>2021-12-27</th>\n",
       "      <td>472.059998</td>\n",
       "      <td>477.260010</td>\n",
       "      <td>0.011016</td>\n",
       "      <td>0.999326</td>\n",
       "    </tr>\n",
       "    <tr>\n",
       "      <th>2021-12-28</th>\n",
       "      <td>477.720001</td>\n",
       "      <td>476.869995</td>\n",
       "      <td>-0.001779</td>\n",
       "      <td>0.997547</td>\n",
       "    </tr>\n",
       "    <tr>\n",
       "      <th>2021-12-29</th>\n",
       "      <td>476.980011</td>\n",
       "      <td>477.480011</td>\n",
       "      <td>0.001048</td>\n",
       "      <td>0.998593</td>\n",
       "    </tr>\n",
       "    <tr>\n",
       "      <th>2021-12-30</th>\n",
       "      <td>477.929993</td>\n",
       "      <td>476.160004</td>\n",
       "      <td>-0.003703</td>\n",
       "      <td>0.994895</td>\n",
       "    </tr>\n",
       "  </tbody>\n",
       "</table>\n",
       "<p>7284 rows × 4 columns</p>\n",
       "</div>"
      ],
      "text/plain": [
       "                  Open       Close  BM Daily Return  BM Cumulative Return\n",
       "Date                                                                     \n",
       "1993-01-29   43.968750   43.937500        -0.000711              0.999289\n",
       "1993-02-01   43.968750   44.250000         0.006397              1.005681\n",
       "1993-02-02   44.218750   44.343750         0.002827              1.008524\n",
       "1993-02-03   44.406250   44.812500         0.009148              1.017751\n",
       "1993-02-04   44.968750   45.000000         0.000695              1.018458\n",
       "...                ...         ...              ...                   ...\n",
       "2021-12-23  468.750000  470.600006         0.003947              0.988437\n",
       "2021-12-27  472.059998  477.260010         0.011016              0.999326\n",
       "2021-12-28  477.720001  476.869995        -0.001779              0.997547\n",
       "2021-12-29  476.980011  477.480011         0.001048              0.998593\n",
       "2021-12-30  477.929993  476.160004        -0.003703              0.994895\n",
       "\n",
       "[7284 rows x 4 columns]"
      ]
     },
     "execution_count": 43,
     "metadata": {},
     "output_type": "execute_result"
    }
   ],
   "source": [
    "# Cumulative return\n",
    "spy_daily_return[\"BM Cumulative Return\"] = (1+spy_daily_return[\"BM Daily Return\"]).cumprod()\n",
    "spy_daily_return"
   ]
  },
  {
   "cell_type": "code",
   "execution_count": 44,
   "id": "f8c9595d-f42e-4cf9-b721-e5435ffd2967",
   "metadata": {},
   "outputs": [],
   "source": [
    "# Total return and CAGR\n",
    "total_return_pct = round((spy_daily_return[\"BM Cumulative Return\"][-1]/spy_daily_return[\"BM Cumulative Return\"][0] - 1) * 100, 2)\n",
    "cagr_pct = round((((spy_daily_return[\"BM Cumulative Return\"][-1]/spy_daily_return[\"BM Cumulative Return\"][0])**(1/years))-1)*100,2)"
   ]
  },
  {
   "cell_type": "code",
   "execution_count": 45,
   "id": "b07db126-3847-4423-bb89-0cce6a6e3d5a",
   "metadata": {},
   "outputs": [
    {
     "name": "stdout",
     "output_type": "stream",
     "text": [
      "-0.44\n",
      "-0.01\n"
     ]
    }
   ],
   "source": [
    "print(total_return_pct)\n",
    "print(cagr_pct)"
   ]
  },
  {
   "cell_type": "code",
   "execution_count": 46,
   "id": "0ffe52e4-a55f-47ed-888f-b01d80b87775",
   "metadata": {},
   "outputs": [
    {
     "data": {
      "text/plain": [
       "0.1527927024316783"
      ]
     },
     "execution_count": 46,
     "metadata": {},
     "output_type": "execute_result"
    }
   ],
   "source": [
    "# Calculate standard deviation and sharpe ratio for SPY as a benchmark\n",
    "annualized_std_spy = spy_daily_return[\"BM Daily Return\"].std()*np.sqrt(252)\n",
    "annualized_std_spy"
   ]
  },
  {
   "cell_type": "code",
   "execution_count": 47,
   "id": "72deb2a5-4df2-4c47-b4b6-714e1a4c93d9",
   "metadata": {},
   "outputs": [
    {
     "data": {
      "text/plain": [
       "0.07529922680053065"
      ]
     },
     "execution_count": 47,
     "metadata": {},
     "output_type": "execute_result"
    }
   ],
   "source": [
    "sharpe_ratio_spy = spy_daily_return[\"BM Daily Return\"].mean() * 252/annualized_std_spy\n",
    "sharpe_ratio_spy"
   ]
  },
  {
   "cell_type": "code",
   "execution_count": 48,
   "id": "1250a369-04f5-4704-a68d-df3e79b28482",
   "metadata": {},
   "outputs": [],
   "source": [
    "# Calculate benchmark drawdown"
   ]
  },
  {
   "cell_type": "code",
   "execution_count": 49,
   "id": "63f08a78-3f6b-4d3c-a6d8-e1b7d9dc979c",
   "metadata": {},
   "outputs": [],
   "source": [
    "spy_daily_return[\"Peak Cummulative\"] = spy_daily_return[\"BM Cumulative Return\"].cummax()\n",
    "spy_daily_return[\"Daily Drawdown\"] = spy_daily_return[\"BM Cumulative Return\"] - spy_daily_return[\"Peak Cummulative\"]"
   ]
  },
  {
   "cell_type": "code",
   "execution_count": 50,
   "id": "2c05dcca-1c22-4e94-9316-195b4b1c2c61",
   "metadata": {},
   "outputs": [
    {
     "data": {
      "text/plain": [
       "-68.49"
      ]
     },
     "execution_count": 50,
     "metadata": {},
     "output_type": "execute_result"
    }
   ],
   "source": [
    "bm_drawdown_pct = round(((spy_daily_return[\"Daily Drawdown\"]/spy_daily_return[\"Peak Cummulative\"]).min())*100,2)\n",
    "bm_drawdown_pct"
   ]
  },
  {
   "cell_type": "code",
   "execution_count": 51,
   "id": "713e0b18-163d-4061-8714-9e1b0fb88b5d",
   "metadata": {},
   "outputs": [
    {
     "data": {
      "text/html": [
       "<div>\n",
       "<style scoped>\n",
       "    .dataframe tbody tr th:only-of-type {\n",
       "        vertical-align: middle;\n",
       "    }\n",
       "\n",
       "    .dataframe tbody tr th {\n",
       "        vertical-align: top;\n",
       "    }\n",
       "\n",
       "    .dataframe thead th {\n",
       "        text-align: right;\n",
       "    }\n",
       "</style>\n",
       "<table border=\"1\" class=\"dataframe\">\n",
       "  <thead>\n",
       "    <tr style=\"text-align: right;\">\n",
       "      <th></th>\n",
       "      <th>Total Return</th>\n",
       "      <th>CAGR</th>\n",
       "      <th>Annualized Standard Deviation</th>\n",
       "      <th>Sharpe Ratio</th>\n",
       "      <th>Drawdown</th>\n",
       "    </tr>\n",
       "  </thead>\n",
       "  <tbody>\n",
       "    <tr>\n",
       "      <th>SPY Benchmark</th>\n",
       "      <td>NaN</td>\n",
       "      <td>NaN</td>\n",
       "      <td>NaN</td>\n",
       "      <td>NaN</td>\n",
       "      <td>NaN</td>\n",
       "    </tr>\n",
       "    <tr>\n",
       "      <th>Strategy 1</th>\n",
       "      <td>NaN</td>\n",
       "      <td>NaN</td>\n",
       "      <td>NaN</td>\n",
       "      <td>NaN</td>\n",
       "      <td>NaN</td>\n",
       "    </tr>\n",
       "    <tr>\n",
       "      <th>Strategy 2</th>\n",
       "      <td>NaN</td>\n",
       "      <td>NaN</td>\n",
       "      <td>NaN</td>\n",
       "      <td>NaN</td>\n",
       "      <td>NaN</td>\n",
       "    </tr>\n",
       "    <tr>\n",
       "      <th>Strategy 3</th>\n",
       "      <td>NaN</td>\n",
       "      <td>NaN</td>\n",
       "      <td>NaN</td>\n",
       "      <td>NaN</td>\n",
       "      <td>NaN</td>\n",
       "    </tr>\n",
       "    <tr>\n",
       "      <th>Strategy 4</th>\n",
       "      <td>NaN</td>\n",
       "      <td>NaN</td>\n",
       "      <td>NaN</td>\n",
       "      <td>NaN</td>\n",
       "      <td>NaN</td>\n",
       "    </tr>\n",
       "    <tr>\n",
       "      <th>Strategy 5</th>\n",
       "      <td>NaN</td>\n",
       "      <td>NaN</td>\n",
       "      <td>NaN</td>\n",
       "      <td>NaN</td>\n",
       "      <td>NaN</td>\n",
       "    </tr>\n",
       "  </tbody>\n",
       "</table>\n",
       "</div>"
      ],
      "text/plain": [
       "              Total Return CAGR Annualized Standard Deviation Sharpe Ratio  \\\n",
       "SPY Benchmark          NaN  NaN                           NaN          NaN   \n",
       "Strategy 1             NaN  NaN                           NaN          NaN   \n",
       "Strategy 2             NaN  NaN                           NaN          NaN   \n",
       "Strategy 3             NaN  NaN                           NaN          NaN   \n",
       "Strategy 4             NaN  NaN                           NaN          NaN   \n",
       "Strategy 5             NaN  NaN                           NaN          NaN   \n",
       "\n",
       "              Drawdown  \n",
       "SPY Benchmark      NaN  \n",
       "Strategy 1         NaN  \n",
       "Strategy 2         NaN  \n",
       "Strategy 3         NaN  \n",
       "Strategy 4         NaN  \n",
       "Strategy 5         NaN  "
      ]
     },
     "execution_count": 51,
     "metadata": {},
     "output_type": "execute_result"
    }
   ],
   "source": [
    "# Summary for bechmark SPY\n",
    "df_summary = pd.DataFrame()\n",
    "index =  [\"SPY Benchmark\", \"Strategy 1\", \"Strategy 2\", \"Strategy 3\", \"Strategy 4\", \"Strategy 5\"]\n",
    "columns =  [\"Total Return\", \"CAGR\", \"Annualized Standard Deviation\", \"Sharpe Ratio\", \"Drawdown\"]\n",
    "df_summary = pd.DataFrame(columns = columns, index=index)\n",
    "df_summary"
   ]
  },
  {
   "cell_type": "code",
   "execution_count": 52,
   "id": "c764892c-c919-4a24-a4a2-bb3afdda3663",
   "metadata": {},
   "outputs": [
    {
     "data": {
      "text/html": [
       "<div>\n",
       "<style scoped>\n",
       "    .dataframe tbody tr th:only-of-type {\n",
       "        vertical-align: middle;\n",
       "    }\n",
       "\n",
       "    .dataframe tbody tr th {\n",
       "        vertical-align: top;\n",
       "    }\n",
       "\n",
       "    .dataframe thead th {\n",
       "        text-align: right;\n",
       "    }\n",
       "</style>\n",
       "<table border=\"1\" class=\"dataframe\">\n",
       "  <thead>\n",
       "    <tr style=\"text-align: right;\">\n",
       "      <th></th>\n",
       "      <th>Total Return</th>\n",
       "      <th>CAGR</th>\n",
       "      <th>Annualized Standard Deviation</th>\n",
       "      <th>Sharpe Ratio</th>\n",
       "      <th>Drawdown</th>\n",
       "    </tr>\n",
       "  </thead>\n",
       "  <tbody>\n",
       "    <tr>\n",
       "      <th>SPY Benchmark</th>\n",
       "      <td>-0.44</td>\n",
       "      <td>-0.01</td>\n",
       "      <td>0.152793</td>\n",
       "      <td>0.075299</td>\n",
       "      <td>-68.49</td>\n",
       "    </tr>\n",
       "    <tr>\n",
       "      <th>Strategy 1</th>\n",
       "      <td>NaN</td>\n",
       "      <td>NaN</td>\n",
       "      <td>NaN</td>\n",
       "      <td>NaN</td>\n",
       "      <td>NaN</td>\n",
       "    </tr>\n",
       "    <tr>\n",
       "      <th>Strategy 2</th>\n",
       "      <td>NaN</td>\n",
       "      <td>NaN</td>\n",
       "      <td>NaN</td>\n",
       "      <td>NaN</td>\n",
       "      <td>NaN</td>\n",
       "    </tr>\n",
       "    <tr>\n",
       "      <th>Strategy 3</th>\n",
       "      <td>NaN</td>\n",
       "      <td>NaN</td>\n",
       "      <td>NaN</td>\n",
       "      <td>NaN</td>\n",
       "      <td>NaN</td>\n",
       "    </tr>\n",
       "    <tr>\n",
       "      <th>Strategy 4</th>\n",
       "      <td>NaN</td>\n",
       "      <td>NaN</td>\n",
       "      <td>NaN</td>\n",
       "      <td>NaN</td>\n",
       "      <td>NaN</td>\n",
       "    </tr>\n",
       "    <tr>\n",
       "      <th>Strategy 5</th>\n",
       "      <td>NaN</td>\n",
       "      <td>NaN</td>\n",
       "      <td>NaN</td>\n",
       "      <td>NaN</td>\n",
       "      <td>NaN</td>\n",
       "    </tr>\n",
       "  </tbody>\n",
       "</table>\n",
       "</div>"
      ],
      "text/plain": [
       "              Total Return  CAGR Annualized Standard Deviation Sharpe Ratio  \\\n",
       "SPY Benchmark        -0.44 -0.01                      0.152793     0.075299   \n",
       "Strategy 1             NaN   NaN                           NaN          NaN   \n",
       "Strategy 2             NaN   NaN                           NaN          NaN   \n",
       "Strategy 3             NaN   NaN                           NaN          NaN   \n",
       "Strategy 4             NaN   NaN                           NaN          NaN   \n",
       "Strategy 5             NaN   NaN                           NaN          NaN   \n",
       "\n",
       "              Drawdown  \n",
       "SPY Benchmark   -68.49  \n",
       "Strategy 1         NaN  \n",
       "Strategy 2         NaN  \n",
       "Strategy 3         NaN  \n",
       "Strategy 4         NaN  \n",
       "Strategy 5         NaN  "
      ]
     },
     "execution_count": 52,
     "metadata": {},
     "output_type": "execute_result"
    }
   ],
   "source": [
    "df_summary.loc[\"SPY Benchmark\"] = pd.Series({ \"Total Return\" : total_return_pct, \"CAGR\" : cagr_pct, \"Annualized Standard Deviation\" : annualized_std_spy, \"Sharpe Ratio\" : sharpe_ratio_spy, \"Drawdown\" :bm_drawdown_pct})\n",
    "df_summary"
   ]
  },
  {
   "cell_type": "markdown",
   "id": "58494506-d53a-4958-a307-ed8c52b37a23",
   "metadata": {},
   "source": [
    "## III. SIMPLE MOVING AVERAGE CROSSOVER BACKTESTING"
   ]
  },
  {
   "cell_type": "markdown",
   "id": "da968208-2adc-4461-9c01-5bdc5e4c516e",
   "metadata": {},
   "source": [
    "### 1. Strategy 1 - Backtesting 50 SMA crossing 200 SMA [Hanna here]"
   ]
  },
  {
   "cell_type": "code",
   "execution_count": 53,
   "id": "1b4a6737-4551-42b6-8f24-4a6fb747b08c",
   "metadata": {},
   "outputs": [],
   "source": [
    "# Define variables\n",
    "fast_ma_1 = 50\n",
    "slow_ma_1 = 200"
   ]
  },
  {
   "cell_type": "code",
   "execution_count": 54,
   "id": "dc9805ce-a8c4-4a16-a32a-f17c2eda452e",
   "metadata": {
    "tags": []
   },
   "outputs": [],
   "source": [
    "# Calculate moving average for Strategy 1"
   ]
  },
  {
   "cell_type": "code",
   "execution_count": 58,
   "id": "ac8a7d80-c656-4ae8-aa0a-f13115b767fd",
   "metadata": {},
   "outputs": [],
   "source": [
    "strategy1 = price[[\"Close\"]]"
   ]
  },
  {
   "cell_type": "code",
   "execution_count": 59,
   "id": "c2b505f8-6b7d-4f2f-b588-137f26af02db",
   "metadata": {},
   "outputs": [
    {
     "name": "stderr",
     "output_type": "stream",
     "text": [
      "C:\\Users\\HOANG\\anaconda3\\envs\\dev\\lib\\site-packages\\ipykernel_launcher.py:1: SettingWithCopyWarning: \n",
      "A value is trying to be set on a copy of a slice from a DataFrame.\n",
      "Try using .loc[row_indexer,col_indexer] = value instead\n",
      "\n",
      "See the caveats in the documentation: https://pandas.pydata.org/pandas-docs/stable/user_guide/indexing.html#returning-a-view-versus-a-copy\n",
      "  \"\"\"Entry point for launching an IPython kernel.\n",
      "C:\\Users\\HOANG\\anaconda3\\envs\\dev\\lib\\site-packages\\ipykernel_launcher.py:2: SettingWithCopyWarning: \n",
      "A value is trying to be set on a copy of a slice from a DataFrame.\n",
      "Try using .loc[row_indexer,col_indexer] = value instead\n",
      "\n",
      "See the caveats in the documentation: https://pandas.pydata.org/pandas-docs/stable/user_guide/indexing.html#returning-a-view-versus-a-copy\n",
      "  \n"
     ]
    },
    {
     "data": {
      "text/html": [
       "<div>\n",
       "<style scoped>\n",
       "    .dataframe tbody tr th:only-of-type {\n",
       "        vertical-align: middle;\n",
       "    }\n",
       "\n",
       "    .dataframe tbody tr th {\n",
       "        vertical-align: top;\n",
       "    }\n",
       "\n",
       "    .dataframe thead th {\n",
       "        text-align: right;\n",
       "    }\n",
       "</style>\n",
       "<table border=\"1\" class=\"dataframe\">\n",
       "  <thead>\n",
       "    <tr style=\"text-align: right;\">\n",
       "      <th></th>\n",
       "      <th>Close</th>\n",
       "      <th>Fast SMA</th>\n",
       "      <th>Slow SMA</th>\n",
       "    </tr>\n",
       "    <tr>\n",
       "      <th>Date</th>\n",
       "      <th></th>\n",
       "      <th></th>\n",
       "      <th></th>\n",
       "    </tr>\n",
       "  </thead>\n",
       "  <tbody>\n",
       "    <tr>\n",
       "      <th>1993-01-29</th>\n",
       "      <td>43.937500</td>\n",
       "      <td>NaN</td>\n",
       "      <td>NaN</td>\n",
       "    </tr>\n",
       "    <tr>\n",
       "      <th>1993-02-01</th>\n",
       "      <td>44.250000</td>\n",
       "      <td>NaN</td>\n",
       "      <td>NaN</td>\n",
       "    </tr>\n",
       "    <tr>\n",
       "      <th>1993-02-02</th>\n",
       "      <td>44.343750</td>\n",
       "      <td>NaN</td>\n",
       "      <td>NaN</td>\n",
       "    </tr>\n",
       "    <tr>\n",
       "      <th>1993-02-03</th>\n",
       "      <td>44.812500</td>\n",
       "      <td>NaN</td>\n",
       "      <td>NaN</td>\n",
       "    </tr>\n",
       "    <tr>\n",
       "      <th>1993-02-04</th>\n",
       "      <td>45.000000</td>\n",
       "      <td>NaN</td>\n",
       "      <td>NaN</td>\n",
       "    </tr>\n",
       "    <tr>\n",
       "      <th>...</th>\n",
       "      <td>...</td>\n",
       "      <td>...</td>\n",
       "      <td>...</td>\n",
       "    </tr>\n",
       "    <tr>\n",
       "      <th>2021-12-23</th>\n",
       "      <td>470.600006</td>\n",
       "      <td>461.747801</td>\n",
       "      <td>435.16185</td>\n",
       "    </tr>\n",
       "    <tr>\n",
       "      <th>2021-12-27</th>\n",
       "      <td>477.260010</td>\n",
       "      <td>462.443001</td>\n",
       "      <td>435.57785</td>\n",
       "    </tr>\n",
       "    <tr>\n",
       "      <th>2021-12-28</th>\n",
       "      <td>476.869995</td>\n",
       "      <td>463.063001</td>\n",
       "      <td>435.98015</td>\n",
       "    </tr>\n",
       "    <tr>\n",
       "      <th>2021-12-29</th>\n",
       "      <td>477.480011</td>\n",
       "      <td>463.668801</td>\n",
       "      <td>436.38800</td>\n",
       "    </tr>\n",
       "    <tr>\n",
       "      <th>2021-12-30</th>\n",
       "      <td>476.160004</td>\n",
       "      <td>464.179201</td>\n",
       "      <td>436.78250</td>\n",
       "    </tr>\n",
       "  </tbody>\n",
       "</table>\n",
       "<p>7284 rows × 3 columns</p>\n",
       "</div>"
      ],
      "text/plain": [
       "                 Close    Fast SMA   Slow SMA\n",
       "Date                                         \n",
       "1993-01-29   43.937500         NaN        NaN\n",
       "1993-02-01   44.250000         NaN        NaN\n",
       "1993-02-02   44.343750         NaN        NaN\n",
       "1993-02-03   44.812500         NaN        NaN\n",
       "1993-02-04   45.000000         NaN        NaN\n",
       "...                ...         ...        ...\n",
       "2021-12-23  470.600006  461.747801  435.16185\n",
       "2021-12-27  477.260010  462.443001  435.57785\n",
       "2021-12-28  476.869995  463.063001  435.98015\n",
       "2021-12-29  477.480011  463.668801  436.38800\n",
       "2021-12-30  476.160004  464.179201  436.78250\n",
       "\n",
       "[7284 rows x 3 columns]"
      ]
     },
     "execution_count": 59,
     "metadata": {},
     "output_type": "execute_result"
    }
   ],
   "source": [
    "strategy1[\"Fast SMA\"] = strategy1[\"Close\"].rolling(window = fast_ma_1).mean()\n",
    "strategy1[\"Slow SMA\"] = strategy1[\"Close\"].rolling(window = slow_ma_1).mean()\n",
    "strategy1"
   ]
  },
  {
   "cell_type": "code",
   "execution_count": null,
   "id": "111e27c3-0111-409e-bf38-957c9e5ca054",
   "metadata": {},
   "outputs": [],
   "source": []
  },
  {
   "cell_type": "code",
   "execution_count": 62,
   "id": "f8b3dbcd-a4eb-42e6-9f0d-4fe2866410aa",
   "metadata": {},
   "outputs": [
    {
     "data": {
      "text/plain": [
       "<function __main__.strategy1_plot()>"
      ]
     },
     "execution_count": 62,
     "metadata": {},
     "output_type": "execute_result"
    },
    {
     "data": {
      "image/png": "[encoded data removed]",
      "text/plain": [
       "<Figure size 1440x720 with 1 Axes>"
      ]
     },
     "metadata": {
      "needs_background": "light"
     },
     "output_type": "display_data"
    }
   ],
   "source": [
    "# Plot a graph\n",
    "def strategy1_plot ():\n",
    "    fig, ax = plt.subplots(figsize=(20, 10))\n",
    "    ax.plot(strategy1)\n",
    "    ax.set(xlabel = \"Year\",\n",
    "    ylabel = \"Price\")\n",
    "    ax.xaxis.set_major_formatter(mdates.DateFormatter('%Y'))\n",
    "    ax.xaxis.set_major_locator(mdates.YearLocator(1))\n",
    "    return strategy1_plot\n",
    "strategy1_plot()"
   ]
  },
  {
   "cell_type": "code",
   "execution_count": 63,
   "id": "8c4599ac-3716-40b8-95e6-06c0c50c38fe",
   "metadata": {},
   "outputs": [
    {
     "data": {
      "text/html": [
       "<div>\n",
       "<style scoped>\n",
       "    .dataframe tbody tr th:only-of-type {\n",
       "        vertical-align: middle;\n",
       "    }\n",
       "\n",
       "    .dataframe tbody tr th {\n",
       "        vertical-align: top;\n",
       "    }\n",
       "\n",
       "    .dataframe thead th {\n",
       "        text-align: right;\n",
       "    }\n",
       "</style>\n",
       "<table border=\"1\" class=\"dataframe\">\n",
       "  <thead>\n",
       "    <tr style=\"text-align: right;\">\n",
       "      <th></th>\n",
       "      <th>Close</th>\n",
       "      <th>Fast SMA</th>\n",
       "      <th>Slow SMA</th>\n",
       "    </tr>\n",
       "    <tr>\n",
       "      <th>Date</th>\n",
       "      <th></th>\n",
       "      <th></th>\n",
       "      <th></th>\n",
       "    </tr>\n",
       "  </thead>\n",
       "  <tbody>\n",
       "    <tr>\n",
       "      <th>1993-01-29</th>\n",
       "      <td>43.937500</td>\n",
       "      <td>NaN</td>\n",
       "      <td>NaN</td>\n",
       "    </tr>\n",
       "    <tr>\n",
       "      <th>1993-02-01</th>\n",
       "      <td>44.250000</td>\n",
       "      <td>NaN</td>\n",
       "      <td>NaN</td>\n",
       "    </tr>\n",
       "    <tr>\n",
       "      <th>1993-02-02</th>\n",
       "      <td>44.343750</td>\n",
       "      <td>NaN</td>\n",
       "      <td>NaN</td>\n",
       "    </tr>\n",
       "    <tr>\n",
       "      <th>1993-02-03</th>\n",
       "      <td>44.812500</td>\n",
       "      <td>NaN</td>\n",
       "      <td>NaN</td>\n",
       "    </tr>\n",
       "    <tr>\n",
       "      <th>1993-02-04</th>\n",
       "      <td>45.000000</td>\n",
       "      <td>NaN</td>\n",
       "      <td>NaN</td>\n",
       "    </tr>\n",
       "    <tr>\n",
       "      <th>...</th>\n",
       "      <td>...</td>\n",
       "      <td>...</td>\n",
       "      <td>...</td>\n",
       "    </tr>\n",
       "    <tr>\n",
       "      <th>2021-12-23</th>\n",
       "      <td>470.600006</td>\n",
       "      <td>461.747801</td>\n",
       "      <td>435.16185</td>\n",
       "    </tr>\n",
       "    <tr>\n",
       "      <th>2021-12-27</th>\n",
       "      <td>477.260010</td>\n",
       "      <td>462.443001</td>\n",
       "      <td>435.57785</td>\n",
       "    </tr>\n",
       "    <tr>\n",
       "      <th>2021-12-28</th>\n",
       "      <td>476.869995</td>\n",
       "      <td>463.063001</td>\n",
       "      <td>435.98015</td>\n",
       "    </tr>\n",
       "    <tr>\n",
       "      <th>2021-12-29</th>\n",
       "      <td>477.480011</td>\n",
       "      <td>463.668801</td>\n",
       "      <td>436.38800</td>\n",
       "    </tr>\n",
       "    <tr>\n",
       "      <th>2021-12-30</th>\n",
       "      <td>476.160004</td>\n",
       "      <td>464.179201</td>\n",
       "      <td>436.78250</td>\n",
       "    </tr>\n",
       "  </tbody>\n",
       "</table>\n",
       "<p>7284 rows × 3 columns</p>\n",
       "</div>"
      ],
      "text/plain": [
       "                 Close    Fast SMA   Slow SMA\n",
       "Date                                         \n",
       "1993-01-29   43.937500         NaN        NaN\n",
       "1993-02-01   44.250000         NaN        NaN\n",
       "1993-02-02   44.343750         NaN        NaN\n",
       "1993-02-03   44.812500         NaN        NaN\n",
       "1993-02-04   45.000000         NaN        NaN\n",
       "...                ...         ...        ...\n",
       "2021-12-23  470.600006  461.747801  435.16185\n",
       "2021-12-27  477.260010  462.443001  435.57785\n",
       "2021-12-28  476.869995  463.063001  435.98015\n",
       "2021-12-29  477.480011  463.668801  436.38800\n",
       "2021-12-30  476.160004  464.179201  436.78250\n",
       "\n",
       "[7284 rows x 3 columns]"
      ]
     },
     "execution_count": 63,
     "metadata": {},
     "output_type": "execute_result"
    }
   ],
   "source": [
    "# Define entries for long position\n",
    "strategy1\n",
    "strategy1"
   ]
  },
  {
   "cell_type": "code",
   "execution_count": 64,
   "id": "8ba807b7-5217-4a45-a277-990aa45c57c6",
   "metadata": {},
   "outputs": [],
   "source": [
    "# Calculate the strategy balance"
   ]
  },
  {
   "cell_type": "code",
   "execution_count": 65,
   "id": "177e2f27-6337-4cdf-9b96-ed76e26af9dd",
   "metadata": {},
   "outputs": [
    {
     "data": {
      "text/html": [
       "<div>\n",
       "<style scoped>\n",
       "    .dataframe tbody tr th:only-of-type {\n",
       "        vertical-align: middle;\n",
       "    }\n",
       "\n",
       "    .dataframe tbody tr th {\n",
       "        vertical-align: top;\n",
       "    }\n",
       "\n",
       "    .dataframe thead th {\n",
       "        text-align: right;\n",
       "    }\n",
       "</style>\n",
       "<table border=\"1\" class=\"dataframe\">\n",
       "  <thead>\n",
       "    <tr style=\"text-align: right;\">\n",
       "      <th></th>\n",
       "      <th>BM Daily Return</th>\n",
       "    </tr>\n",
       "    <tr>\n",
       "      <th>Date</th>\n",
       "      <th></th>\n",
       "    </tr>\n",
       "  </thead>\n",
       "  <tbody>\n",
       "    <tr>\n",
       "      <th>1993-01-29</th>\n",
       "      <td>-0.000711</td>\n",
       "    </tr>\n",
       "    <tr>\n",
       "      <th>1993-02-01</th>\n",
       "      <td>0.006397</td>\n",
       "    </tr>\n",
       "    <tr>\n",
       "      <th>1993-02-02</th>\n",
       "      <td>0.002827</td>\n",
       "    </tr>\n",
       "    <tr>\n",
       "      <th>1993-02-03</th>\n",
       "      <td>0.009148</td>\n",
       "    </tr>\n",
       "    <tr>\n",
       "      <th>1993-02-04</th>\n",
       "      <td>0.000695</td>\n",
       "    </tr>\n",
       "    <tr>\n",
       "      <th>...</th>\n",
       "      <td>...</td>\n",
       "    </tr>\n",
       "    <tr>\n",
       "      <th>2021-12-23</th>\n",
       "      <td>0.003947</td>\n",
       "    </tr>\n",
       "    <tr>\n",
       "      <th>2021-12-27</th>\n",
       "      <td>0.011016</td>\n",
       "    </tr>\n",
       "    <tr>\n",
       "      <th>2021-12-28</th>\n",
       "      <td>-0.001779</td>\n",
       "    </tr>\n",
       "    <tr>\n",
       "      <th>2021-12-29</th>\n",
       "      <td>0.001048</td>\n",
       "    </tr>\n",
       "    <tr>\n",
       "      <th>2021-12-30</th>\n",
       "      <td>-0.003703</td>\n",
       "    </tr>\n",
       "  </tbody>\n",
       "</table>\n",
       "<p>7284 rows × 1 columns</p>\n",
       "</div>"
      ],
      "text/plain": [
       "            BM Daily Return\n",
       "Date                       \n",
       "1993-01-29        -0.000711\n",
       "1993-02-01         0.006397\n",
       "1993-02-02         0.002827\n",
       "1993-02-03         0.009148\n",
       "1993-02-04         0.000695\n",
       "...                     ...\n",
       "2021-12-23         0.003947\n",
       "2021-12-27         0.011016\n",
       "2021-12-28        -0.001779\n",
       "2021-12-29         0.001048\n",
       "2021-12-30        -0.003703\n",
       "\n",
       "[7284 rows x 1 columns]"
      ]
     },
     "execution_count": 65,
     "metadata": {},
     "output_type": "execute_result"
    }
   ],
   "source": [
    "benchmark_spy = spy_daily_return[[\"BM Daily Return\"]]\n",
    "benchmark_spy"
   ]
  },
  {
   "cell_type": "code",
   "execution_count": 66,
   "id": "5fb2b151-943e-4f4d-8bd1-a4b9c582de93",
   "metadata": {},
   "outputs": [
    {
     "data": {
      "text/html": [
       "<div>\n",
       "<style scoped>\n",
       "    .dataframe tbody tr th:only-of-type {\n",
       "        vertical-align: middle;\n",
       "    }\n",
       "\n",
       "    .dataframe tbody tr th {\n",
       "        vertical-align: top;\n",
       "    }\n",
       "\n",
       "    .dataframe thead th {\n",
       "        text-align: right;\n",
       "    }\n",
       "</style>\n",
       "<table border=\"1\" class=\"dataframe\">\n",
       "  <thead>\n",
       "    <tr style=\"text-align: right;\">\n",
       "      <th></th>\n",
       "      <th>Close</th>\n",
       "      <th>Fast SMA</th>\n",
       "      <th>Slow SMA</th>\n",
       "      <th>BM Daily Return</th>\n",
       "      <th>Long Position</th>\n",
       "    </tr>\n",
       "    <tr>\n",
       "      <th>Date</th>\n",
       "      <th></th>\n",
       "      <th></th>\n",
       "      <th></th>\n",
       "      <th></th>\n",
       "      <th></th>\n",
       "    </tr>\n",
       "  </thead>\n",
       "  <tbody>\n",
       "    <tr>\n",
       "      <th>1993-01-29</th>\n",
       "      <td>43.93750</td>\n",
       "      <td>NaN</td>\n",
       "      <td>NaN</td>\n",
       "      <td>-0.000711</td>\n",
       "      <td>False</td>\n",
       "    </tr>\n",
       "    <tr>\n",
       "      <th>1993-02-01</th>\n",
       "      <td>44.25000</td>\n",
       "      <td>NaN</td>\n",
       "      <td>NaN</td>\n",
       "      <td>0.006397</td>\n",
       "      <td>False</td>\n",
       "    </tr>\n",
       "    <tr>\n",
       "      <th>1993-02-02</th>\n",
       "      <td>44.34375</td>\n",
       "      <td>NaN</td>\n",
       "      <td>NaN</td>\n",
       "      <td>0.002827</td>\n",
       "      <td>False</td>\n",
       "    </tr>\n",
       "    <tr>\n",
       "      <th>1993-02-03</th>\n",
       "      <td>44.81250</td>\n",
       "      <td>NaN</td>\n",
       "      <td>NaN</td>\n",
       "      <td>0.009148</td>\n",
       "      <td>False</td>\n",
       "    </tr>\n",
       "    <tr>\n",
       "      <th>1993-02-04</th>\n",
       "      <td>45.00000</td>\n",
       "      <td>NaN</td>\n",
       "      <td>NaN</td>\n",
       "      <td>0.000695</td>\n",
       "      <td>False</td>\n",
       "    </tr>\n",
       "  </tbody>\n",
       "</table>\n",
       "</div>"
      ],
      "text/plain": [
       "               Close  Fast SMA  Slow SMA  BM Daily Return  Long Position\n",
       "Date                                                                    \n",
       "1993-01-29  43.93750       NaN       NaN        -0.000711          False\n",
       "1993-02-01  44.25000       NaN       NaN         0.006397          False\n",
       "1993-02-02  44.34375       NaN       NaN         0.002827          False\n",
       "1993-02-03  44.81250       NaN       NaN         0.009148          False\n",
       "1993-02-04  45.00000       NaN       NaN         0.000695          False"
      ]
     },
     "execution_count": 66,
     "metadata": {},
     "output_type": "execute_result"
    }
   ],
   "source": [
    "strategy1_return = pd.concat([strategy1,benchmark_spy],axis=1, join = \"inner\")\n",
    "strategy1_return[\"Long Position\"] = strategy1['Fast SMA'] > strategy1[\"Slow SMA\"]\n",
    "strategy1_return.head()"
   ]
  },
  {
   "cell_type": "code",
   "execution_count": 67,
   "id": "e195b1e2-3139-481d-b5c6-6a6a8d96f160",
   "metadata": {},
   "outputs": [
    {
     "data": {
      "text/html": [
       "<div>\n",
       "<style scoped>\n",
       "    .dataframe tbody tr th:only-of-type {\n",
       "        vertical-align: middle;\n",
       "    }\n",
       "\n",
       "    .dataframe tbody tr th {\n",
       "        vertical-align: top;\n",
       "    }\n",
       "\n",
       "    .dataframe thead th {\n",
       "        text-align: right;\n",
       "    }\n",
       "</style>\n",
       "<table border=\"1\" class=\"dataframe\">\n",
       "  <thead>\n",
       "    <tr style=\"text-align: right;\">\n",
       "      <th></th>\n",
       "      <th>Close</th>\n",
       "      <th>Fast SMA</th>\n",
       "      <th>Slow SMA</th>\n",
       "      <th>BM Daily Return</th>\n",
       "      <th>Long Position</th>\n",
       "      <th>Strategy1 Return</th>\n",
       "    </tr>\n",
       "    <tr>\n",
       "      <th>Date</th>\n",
       "      <th></th>\n",
       "      <th></th>\n",
       "      <th></th>\n",
       "      <th></th>\n",
       "      <th></th>\n",
       "      <th></th>\n",
       "    </tr>\n",
       "  </thead>\n",
       "  <tbody>\n",
       "    <tr>\n",
       "      <th>2021-12-23</th>\n",
       "      <td>470.600006</td>\n",
       "      <td>461.747801</td>\n",
       "      <td>435.16185</td>\n",
       "      <td>0.003947</td>\n",
       "      <td>True</td>\n",
       "      <td>0.003947</td>\n",
       "    </tr>\n",
       "    <tr>\n",
       "      <th>2021-12-27</th>\n",
       "      <td>477.260010</td>\n",
       "      <td>462.443001</td>\n",
       "      <td>435.57785</td>\n",
       "      <td>0.011016</td>\n",
       "      <td>True</td>\n",
       "      <td>0.011016</td>\n",
       "    </tr>\n",
       "    <tr>\n",
       "      <th>2021-12-28</th>\n",
       "      <td>476.869995</td>\n",
       "      <td>463.063001</td>\n",
       "      <td>435.98015</td>\n",
       "      <td>-0.001779</td>\n",
       "      <td>True</td>\n",
       "      <td>-0.001779</td>\n",
       "    </tr>\n",
       "    <tr>\n",
       "      <th>2021-12-29</th>\n",
       "      <td>477.480011</td>\n",
       "      <td>463.668801</td>\n",
       "      <td>436.38800</td>\n",
       "      <td>0.001048</td>\n",
       "      <td>True</td>\n",
       "      <td>0.001048</td>\n",
       "    </tr>\n",
       "    <tr>\n",
       "      <th>2021-12-30</th>\n",
       "      <td>476.160004</td>\n",
       "      <td>464.179201</td>\n",
       "      <td>436.78250</td>\n",
       "      <td>-0.003703</td>\n",
       "      <td>True</td>\n",
       "      <td>-0.003703</td>\n",
       "    </tr>\n",
       "  </tbody>\n",
       "</table>\n",
       "</div>"
      ],
      "text/plain": [
       "                 Close    Fast SMA   Slow SMA  BM Daily Return  Long Position  \\\n",
       "Date                                                                            \n",
       "2021-12-23  470.600006  461.747801  435.16185         0.003947           True   \n",
       "2021-12-27  477.260010  462.443001  435.57785         0.011016           True   \n",
       "2021-12-28  476.869995  463.063001  435.98015        -0.001779           True   \n",
       "2021-12-29  477.480011  463.668801  436.38800         0.001048           True   \n",
       "2021-12-30  476.160004  464.179201  436.78250        -0.003703           True   \n",
       "\n",
       "            Strategy1 Return  \n",
       "Date                          \n",
       "2021-12-23          0.003947  \n",
       "2021-12-27          0.011016  \n",
       "2021-12-28         -0.001779  \n",
       "2021-12-29          0.001048  \n",
       "2021-12-30         -0.003703  "
      ]
     },
     "execution_count": 67,
     "metadata": {},
     "output_type": "execute_result"
    }
   ],
   "source": [
    "strategy1_return[\"Strategy1 Return\"] = np.where(strategy1_return[\"Long Position\"].shift(1) == True, strategy1_return[\"BM Daily Return\"], 0)\n",
    "strategy1_return.tail()"
   ]
  },
  {
   "cell_type": "code",
   "execution_count": 68,
   "id": "7c4b4b2d-f4e2-4eda-ba63-43529c510a43",
   "metadata": {},
   "outputs": [
    {
     "data": {
      "text/html": [
       "<div>\n",
       "<style scoped>\n",
       "    .dataframe tbody tr th:only-of-type {\n",
       "        vertical-align: middle;\n",
       "    }\n",
       "\n",
       "    .dataframe tbody tr th {\n",
       "        vertical-align: top;\n",
       "    }\n",
       "\n",
       "    .dataframe thead th {\n",
       "        text-align: right;\n",
       "    }\n",
       "</style>\n",
       "<table border=\"1\" class=\"dataframe\">\n",
       "  <thead>\n",
       "    <tr style=\"text-align: right;\">\n",
       "      <th></th>\n",
       "      <th>Close</th>\n",
       "      <th>Fast SMA</th>\n",
       "      <th>Slow SMA</th>\n",
       "      <th>BM Daily Return</th>\n",
       "      <th>Long Position</th>\n",
       "      <th>Strategy1 Return</th>\n",
       "      <th>Strategy1 Cumulative Return</th>\n",
       "    </tr>\n",
       "    <tr>\n",
       "      <th>Date</th>\n",
       "      <th></th>\n",
       "      <th></th>\n",
       "      <th></th>\n",
       "      <th></th>\n",
       "      <th></th>\n",
       "      <th></th>\n",
       "      <th></th>\n",
       "    </tr>\n",
       "  </thead>\n",
       "  <tbody>\n",
       "    <tr>\n",
       "      <th>1993-01-29</th>\n",
       "      <td>43.937500</td>\n",
       "      <td>NaN</td>\n",
       "      <td>NaN</td>\n",
       "      <td>-0.000711</td>\n",
       "      <td>False</td>\n",
       "      <td>0.000000</td>\n",
       "      <td>1.000000</td>\n",
       "    </tr>\n",
       "    <tr>\n",
       "      <th>1993-02-01</th>\n",
       "      <td>44.250000</td>\n",
       "      <td>NaN</td>\n",
       "      <td>NaN</td>\n",
       "      <td>0.006397</td>\n",
       "      <td>False</td>\n",
       "      <td>0.000000</td>\n",
       "      <td>1.000000</td>\n",
       "    </tr>\n",
       "    <tr>\n",
       "      <th>1993-02-02</th>\n",
       "      <td>44.343750</td>\n",
       "      <td>NaN</td>\n",
       "      <td>NaN</td>\n",
       "      <td>0.002827</td>\n",
       "      <td>False</td>\n",
       "      <td>0.000000</td>\n",
       "      <td>1.000000</td>\n",
       "    </tr>\n",
       "    <tr>\n",
       "      <th>1993-02-03</th>\n",
       "      <td>44.812500</td>\n",
       "      <td>NaN</td>\n",
       "      <td>NaN</td>\n",
       "      <td>0.009148</td>\n",
       "      <td>False</td>\n",
       "      <td>0.000000</td>\n",
       "      <td>1.000000</td>\n",
       "    </tr>\n",
       "    <tr>\n",
       "      <th>1993-02-04</th>\n",
       "      <td>45.000000</td>\n",
       "      <td>NaN</td>\n",
       "      <td>NaN</td>\n",
       "      <td>0.000695</td>\n",
       "      <td>False</td>\n",
       "      <td>0.000000</td>\n",
       "      <td>1.000000</td>\n",
       "    </tr>\n",
       "    <tr>\n",
       "      <th>...</th>\n",
       "      <td>...</td>\n",
       "      <td>...</td>\n",
       "      <td>...</td>\n",
       "      <td>...</td>\n",
       "      <td>...</td>\n",
       "      <td>...</td>\n",
       "      <td>...</td>\n",
       "    </tr>\n",
       "    <tr>\n",
       "      <th>2021-12-23</th>\n",
       "      <td>470.600006</td>\n",
       "      <td>461.747801</td>\n",
       "      <td>435.16185</td>\n",
       "      <td>0.003947</td>\n",
       "      <td>True</td>\n",
       "      <td>0.003947</td>\n",
       "      <td>0.950856</td>\n",
       "    </tr>\n",
       "    <tr>\n",
       "      <th>2021-12-27</th>\n",
       "      <td>477.260010</td>\n",
       "      <td>462.443001</td>\n",
       "      <td>435.57785</td>\n",
       "      <td>0.011016</td>\n",
       "      <td>True</td>\n",
       "      <td>0.011016</td>\n",
       "      <td>0.961330</td>\n",
       "    </tr>\n",
       "    <tr>\n",
       "      <th>2021-12-28</th>\n",
       "      <td>476.869995</td>\n",
       "      <td>463.063001</td>\n",
       "      <td>435.98015</td>\n",
       "      <td>-0.001779</td>\n",
       "      <td>True</td>\n",
       "      <td>-0.001779</td>\n",
       "      <td>0.959620</td>\n",
       "    </tr>\n",
       "    <tr>\n",
       "      <th>2021-12-29</th>\n",
       "      <td>477.480011</td>\n",
       "      <td>463.668801</td>\n",
       "      <td>436.38800</td>\n",
       "      <td>0.001048</td>\n",
       "      <td>True</td>\n",
       "      <td>0.001048</td>\n",
       "      <td>0.960626</td>\n",
       "    </tr>\n",
       "    <tr>\n",
       "      <th>2021-12-30</th>\n",
       "      <td>476.160004</td>\n",
       "      <td>464.179201</td>\n",
       "      <td>436.78250</td>\n",
       "      <td>-0.003703</td>\n",
       "      <td>True</td>\n",
       "      <td>-0.003703</td>\n",
       "      <td>0.957068</td>\n",
       "    </tr>\n",
       "  </tbody>\n",
       "</table>\n",
       "<p>7284 rows × 7 columns</p>\n",
       "</div>"
      ],
      "text/plain": [
       "                 Close    Fast SMA   Slow SMA  BM Daily Return  Long Position  \\\n",
       "Date                                                                            \n",
       "1993-01-29   43.937500         NaN        NaN        -0.000711          False   \n",
       "1993-02-01   44.250000         NaN        NaN         0.006397          False   \n",
       "1993-02-02   44.343750         NaN        NaN         0.002827          False   \n",
       "1993-02-03   44.812500         NaN        NaN         0.009148          False   \n",
       "1993-02-04   45.000000         NaN        NaN         0.000695          False   \n",
       "...                ...         ...        ...              ...            ...   \n",
       "2021-12-23  470.600006  461.747801  435.16185         0.003947           True   \n",
       "2021-12-27  477.260010  462.443001  435.57785         0.011016           True   \n",
       "2021-12-28  476.869995  463.063001  435.98015        -0.001779           True   \n",
       "2021-12-29  477.480011  463.668801  436.38800         0.001048           True   \n",
       "2021-12-30  476.160004  464.179201  436.78250        -0.003703           True   \n",
       "\n",
       "            Strategy1 Return  Strategy1 Cumulative Return  \n",
       "Date                                                       \n",
       "1993-01-29          0.000000                     1.000000  \n",
       "1993-02-01          0.000000                     1.000000  \n",
       "1993-02-02          0.000000                     1.000000  \n",
       "1993-02-03          0.000000                     1.000000  \n",
       "1993-02-04          0.000000                     1.000000  \n",
       "...                      ...                          ...  \n",
       "2021-12-23          0.003947                     0.950856  \n",
       "2021-12-27          0.011016                     0.961330  \n",
       "2021-12-28         -0.001779                     0.959620  \n",
       "2021-12-29          0.001048                     0.960626  \n",
       "2021-12-30         -0.003703                     0.957068  \n",
       "\n",
       "[7284 rows x 7 columns]"
      ]
     },
     "execution_count": 68,
     "metadata": {},
     "output_type": "execute_result"
    }
   ],
   "source": [
    "strategy1_return[\"Strategy1 Cumulative Return\"] = (1+ strategy1_return[\"Strategy1 Return\"]).cumprod()\n",
    "strategy1_return"
   ]
  },
  {
   "cell_type": "code",
   "execution_count": 69,
   "id": "1e801957-e28c-4b7c-ad20-1f71985ff550",
   "metadata": {},
   "outputs": [],
   "source": [
    "# Plot with the benchmark\n",
    "def strategy1_return_plot ():\n",
    "    fig, ax = plt.subplots(figsize=(20, 10))\n",
    "    ax.plot(spy_daily_return[\"BM Cumulative Return\"])\n",
    "    ax.plot(strategy1_return[\"Strategy1 Cumulative Return\"])\n",
    "    ax.set(xlabel = \"Year\",\n",
    "    ylabel = \"Profit\")\n",
    "    ax.xaxis.set_major_formatter(mdates.DateFormatter('%Y'))\n",
    "    ax.xaxis.set_major_locator(mdates.YearLocator(1))\n",
    "    return strategy1_return_plot"
   ]
  },
  {
   "cell_type": "code",
   "execution_count": 70,
   "id": "c0b62140-b27b-479a-bdc0-5d6984a8cbce",
   "metadata": {
    "tags": []
   },
   "outputs": [
    {
     "data": {
      "text/plain": [
       "<function __main__.strategy1_return_plot()>"
      ]
     },
     "execution_count": 70,
     "metadata": {},
     "output_type": "execute_result"
    },
    {
     "data": {
      "image/png": "[encoded data removed]",
      "text/plain": [
       "<Figure size 1440x720 with 1 Axes>"
      ]
     },
     "metadata": {
      "needs_background": "light"
     },
     "output_type": "display_data"
    }
   ],
   "source": [
    "strategy1_return_plot()"
   ]
  },
  {
   "cell_type": "code",
   "execution_count": 71,
   "id": "e46994ee-e6d9-47d9-85a5-c9ded67a4cf4",
   "metadata": {},
   "outputs": [],
   "source": [
    "# Calculate strategy total return and CAGR\n",
    "\n",
    "strategy1_total_return_pct = round((strategy1_return[\"Strategy1 Cumulative Return\"][-1]/strategy1_return[\"Strategy1 Cumulative Return\"][0] - 1) * 100, 2)\n",
    "strategy1_cagr_pct = round((((strategy1_return[\"Strategy1 Cumulative Return\"][-1]/strategy1_return[\"Strategy1 Cumulative Return\"][0])**(1/years))-1)*100,2)"
   ]
  },
  {
   "cell_type": "code",
   "execution_count": 72,
   "id": "15b9207e-3dbe-42e0-ad21-61469b3ac0fb",
   "metadata": {},
   "outputs": [
    {
     "name": "stdout",
     "output_type": "stream",
     "text": [
      "-4.29\n",
      "-0.15\n"
     ]
    }
   ],
   "source": [
    "print(strategy1_total_return_pct)\n",
    "print(strategy1_cagr_pct)"
   ]
  },
  {
   "cell_type": "code",
   "execution_count": 73,
   "id": "88f6ba4e-1af1-47ab-b2fe-52b038a0c944",
   "metadata": {},
   "outputs": [
    {
     "data": {
      "text/plain": [
       "0.10937746557213192"
      ]
     },
     "execution_count": 73,
     "metadata": {},
     "output_type": "execute_result"
    }
   ],
   "source": [
    "# Calculate standard deviation and sharpe ratio\n",
    "strategy1_annualized_std = strategy1_return[\"Strategy1 Return\"].std()*np.sqrt(252)\n",
    "strategy1_annualized_std"
   ]
  },
  {
   "cell_type": "code",
   "execution_count": 74,
   "id": "a6c93a25-3069-4c48-aaab-c310466042d3",
   "metadata": {},
   "outputs": [
    {
     "data": {
      "text/plain": [
       "0.04089672364990187"
      ]
     },
     "execution_count": 74,
     "metadata": {},
     "output_type": "execute_result"
    }
   ],
   "source": [
    "strategy1_sharpe_ratio = strategy1_return[\"Strategy1 Return\"].mean() * 252/strategy1_annualized_std\n",
    "strategy1_sharpe_ratio"
   ]
  },
  {
   "cell_type": "code",
   "execution_count": 75,
   "id": "c6fa5fb9-5a30-44eb-88bd-48488c2e2764",
   "metadata": {},
   "outputs": [],
   "source": [
    "# Calculate Drawdown strategy 1\n",
    "strategy1_return[\"Strategy1 Peak Cummulative\"] =strategy1_return[\"Strategy1 Cumulative Return\"].cummax()\n",
    "strategy1_return[\"Strategy1 Daily Drawdown\"] = strategy1_return[\"Strategy1 Cumulative Return\"] - strategy1_return[\"Strategy1 Peak Cummulative\"]"
   ]
  },
  {
   "cell_type": "code",
   "execution_count": 76,
   "id": "07e7919e-81e6-4921-b269-6d6c7f0706e3",
   "metadata": {},
   "outputs": [
    {
     "data": {
      "text/plain": [
       "-50.19"
      ]
     },
     "execution_count": 76,
     "metadata": {},
     "output_type": "execute_result"
    }
   ],
   "source": [
    "strategy1_drawdown_pct = round(((strategy1_return[\"Strategy1 Daily Drawdown\"]/ strategy1_return[\"Strategy1 Peak Cummulative\"]).min())*100,2)\n",
    "strategy1_drawdown_pct"
   ]
  },
  {
   "cell_type": "code",
   "execution_count": 77,
   "id": "ac4ffb58-79e4-4f7b-ae3b-202534c0c52c",
   "metadata": {},
   "outputs": [],
   "source": [
    "# Summary of the strategy1 "
   ]
  },
  {
   "cell_type": "code",
   "execution_count": 78,
   "id": "de8d0c36-d364-44b1-8587-fbf552c1f510",
   "metadata": {},
   "outputs": [
    {
     "data": {
      "text/html": [
       "<div>\n",
       "<style scoped>\n",
       "    .dataframe tbody tr th:only-of-type {\n",
       "        vertical-align: middle;\n",
       "    }\n",
       "\n",
       "    .dataframe tbody tr th {\n",
       "        vertical-align: top;\n",
       "    }\n",
       "\n",
       "    .dataframe thead th {\n",
       "        text-align: right;\n",
       "    }\n",
       "</style>\n",
       "<table border=\"1\" class=\"dataframe\">\n",
       "  <thead>\n",
       "    <tr style=\"text-align: right;\">\n",
       "      <th></th>\n",
       "      <th>Total Return</th>\n",
       "      <th>CAGR</th>\n",
       "      <th>Annualized Standard Deviation</th>\n",
       "      <th>Sharpe Ratio</th>\n",
       "      <th>Drawdown</th>\n",
       "    </tr>\n",
       "  </thead>\n",
       "  <tbody>\n",
       "    <tr>\n",
       "      <th>SPY Benchmark</th>\n",
       "      <td>-0.44</td>\n",
       "      <td>-0.01</td>\n",
       "      <td>0.152793</td>\n",
       "      <td>0.075299</td>\n",
       "      <td>-68.49</td>\n",
       "    </tr>\n",
       "    <tr>\n",
       "      <th>Strategy 1</th>\n",
       "      <td>-4.29</td>\n",
       "      <td>-0.15</td>\n",
       "      <td>0.109377</td>\n",
       "      <td>0.040897</td>\n",
       "      <td>-50.19</td>\n",
       "    </tr>\n",
       "    <tr>\n",
       "      <th>Strategy 2</th>\n",
       "      <td>NaN</td>\n",
       "      <td>NaN</td>\n",
       "      <td>NaN</td>\n",
       "      <td>NaN</td>\n",
       "      <td>NaN</td>\n",
       "    </tr>\n",
       "    <tr>\n",
       "      <th>Strategy 3</th>\n",
       "      <td>NaN</td>\n",
       "      <td>NaN</td>\n",
       "      <td>NaN</td>\n",
       "      <td>NaN</td>\n",
       "      <td>NaN</td>\n",
       "    </tr>\n",
       "    <tr>\n",
       "      <th>Strategy 4</th>\n",
       "      <td>NaN</td>\n",
       "      <td>NaN</td>\n",
       "      <td>NaN</td>\n",
       "      <td>NaN</td>\n",
       "      <td>NaN</td>\n",
       "    </tr>\n",
       "    <tr>\n",
       "      <th>Strategy 5</th>\n",
       "      <td>NaN</td>\n",
       "      <td>NaN</td>\n",
       "      <td>NaN</td>\n",
       "      <td>NaN</td>\n",
       "      <td>NaN</td>\n",
       "    </tr>\n",
       "  </tbody>\n",
       "</table>\n",
       "</div>"
      ],
      "text/plain": [
       "              Total Return  CAGR Annualized Standard Deviation Sharpe Ratio  \\\n",
       "SPY Benchmark        -0.44 -0.01                      0.152793     0.075299   \n",
       "Strategy 1           -4.29 -0.15                      0.109377     0.040897   \n",
       "Strategy 2             NaN   NaN                           NaN          NaN   \n",
       "Strategy 3             NaN   NaN                           NaN          NaN   \n",
       "Strategy 4             NaN   NaN                           NaN          NaN   \n",
       "Strategy 5             NaN   NaN                           NaN          NaN   \n",
       "\n",
       "              Drawdown  \n",
       "SPY Benchmark   -68.49  \n",
       "Strategy 1      -50.19  \n",
       "Strategy 2         NaN  \n",
       "Strategy 3         NaN  \n",
       "Strategy 4         NaN  \n",
       "Strategy 5         NaN  "
      ]
     },
     "execution_count": 78,
     "metadata": {},
     "output_type": "execute_result"
    }
   ],
   "source": [
    "df_summary.loc[\"Strategy 1\"] = pd.Series({ \"Total Return\" : strategy1_total_return_pct, \"CAGR\" : strategy1_cagr_pct, \"Annualized Standard Deviation\" : strategy1_annualized_std, \"Sharpe Ratio\" : strategy1_sharpe_ratio, \"Drawdown\" :strategy1_drawdown_pct})\n",
    "df_summary"
   ]
  },
  {
   "cell_type": "markdown",
   "id": "1711c80b-a17b-4d0d-a7c3-0bcbad63e2c0",
   "metadata": {},
   "source": [
    "### 2. Backtesting 50 SMA crossing 100 SMA [Claudia here]"
   ]
  },
  {
   "cell_type": "code",
   "execution_count": null,
   "id": "25b779e4-3a5c-4058-a9c4-c39a03601811",
   "metadata": {},
   "outputs": [],
   "source": [
    "# Define variables\n",
    "fast_ma_2 = 50\n",
    "slow_ma_2 = 100"
   ]
  },
  {
   "cell_type": "code",
   "execution_count": null,
   "id": "ad09bafe-44f8-4b25-a668-b08ca91034d6",
   "metadata": {
    "tags": []
   },
   "outputs": [],
   "source": []
  },
  {
   "cell_type": "code",
   "execution_count": null,
   "id": "172170c8-46c4-4889-a7d1-37fe5700a08f",
   "metadata": {},
   "outputs": [],
   "source": [
    "# Calculate moving average"
   ]
  },
  {
   "cell_type": "code",
   "execution_count": null,
   "id": "e404e3b6-462a-4704-a08f-2fe990cf4e25",
   "metadata": {},
   "outputs": [],
   "source": []
  },
  {
   "cell_type": "code",
   "execution_count": null,
   "id": "5dfdc1db-f7dd-4833-94a1-1b5eabeff5ac",
   "metadata": {},
   "outputs": [],
   "source": [
    "# Plot a graph"
   ]
  },
  {
   "cell_type": "code",
   "execution_count": null,
   "id": "bf390c11-ae05-4f6b-acbc-985996fa0f79",
   "metadata": {},
   "outputs": [],
   "source": []
  },
  {
   "cell_type": "code",
   "execution_count": null,
   "id": "1ce70606-c852-457d-922e-026ebfb2d73e",
   "metadata": {},
   "outputs": [],
   "source": [
    "# Define entries for long position"
   ]
  },
  {
   "cell_type": "code",
   "execution_count": null,
   "id": "34811ab4-5560-4f19-a500-64cd08ceb1f3",
   "metadata": {},
   "outputs": [],
   "source": []
  },
  {
   "cell_type": "code",
   "execution_count": null,
   "id": "39a5b1e7-8016-4996-bbc4-20b122c65ba4",
   "metadata": {},
   "outputs": [],
   "source": [
    "# Define exit for short position"
   ]
  },
  {
   "cell_type": "code",
   "execution_count": null,
   "id": "02f82678-b7b7-42ef-b15c-c55d7bd19ebf",
   "metadata": {},
   "outputs": [],
   "source": []
  },
  {
   "cell_type": "code",
   "execution_count": null,
   "id": "8e889e11-2d68-4d5b-98a5-e18d849c0ed4",
   "metadata": {},
   "outputs": [],
   "source": [
    "# Calculate the strategy balance"
   ]
  },
  {
   "cell_type": "code",
   "execution_count": null,
   "id": "b7612ad0-163e-49ab-b06b-bc1f00063ab5",
   "metadata": {},
   "outputs": [],
   "source": []
  },
  {
   "cell_type": "code",
   "execution_count": null,
   "id": "544ffae8-0221-421d-a620-ce4ffad38b80",
   "metadata": {},
   "outputs": [],
   "source": [
    "# Plot with the benchmark"
   ]
  },
  {
   "cell_type": "code",
   "execution_count": null,
   "id": "ffac932f-73db-4600-8176-7e83f3482a82",
   "metadata": {},
   "outputs": [],
   "source": []
  },
  {
   "cell_type": "code",
   "execution_count": null,
   "id": "5dd57314-ac74-4110-93a2-ce5b7b16170a",
   "metadata": {},
   "outputs": [],
   "source": [
    "# Calculate strategy total return and CAGR"
   ]
  },
  {
   "cell_type": "code",
   "execution_count": null,
   "id": "fdc29726-9582-4077-adb5-bc26504fe835",
   "metadata": {},
   "outputs": [],
   "source": []
  },
  {
   "cell_type": "code",
   "execution_count": null,
   "id": "e11878c0-c9ea-4cea-99a7-b595bc024dbc",
   "metadata": {},
   "outputs": [],
   "source": [
    "# Calculate standard deviation and sharpe ratio"
   ]
  },
  {
   "cell_type": "code",
   "execution_count": null,
   "id": "307bf5da-a52f-4a33-92c4-cb5d247ec772",
   "metadata": {},
   "outputs": [],
   "source": []
  },
  {
   "cell_type": "code",
   "execution_count": null,
   "id": "8c2e6f76-2fb0-4011-a0ba-f437d10df155",
   "metadata": {},
   "outputs": [],
   "source": [
    "# Calculate benchmark drawdown"
   ]
  },
  {
   "cell_type": "code",
   "execution_count": null,
   "id": "15c11d1c-9aee-48ee-9b02-a5d33b8974eb",
   "metadata": {
    "tags": []
   },
   "outputs": [],
   "source": []
  },
  {
   "cell_type": "code",
   "execution_count": null,
   "id": "ebaf2c8d-3f44-4544-ae18-f9bbf38b0b81",
   "metadata": {},
   "outputs": [],
   "source": [
    "# Summary of the strategy"
   ]
  },
  {
   "cell_type": "code",
   "execution_count": null,
   "id": "f6f5a739-8f70-4cfa-85a0-1f4febe68936",
   "metadata": {},
   "outputs": [],
   "source": []
  },
  {
   "cell_type": "markdown",
   "id": "7eaa0301-c739-49ba-a31e-f378b7b7c945",
   "metadata": {},
   "source": [
    "### 3. Backtesting 20 EMA crossing 50 SMA [Atousa here]"
   ]
  },
  {
   "cell_type": "code",
   "execution_count": null,
   "id": "92ad7327-1e1d-4fec-8078-5c6a034be959",
   "metadata": {},
   "outputs": [],
   "source": [
    "# Define variables\n",
    "fast_ma_3 = 20\n",
    "slow_ma_3 = 50"
   ]
  },
  {
   "cell_type": "code",
   "execution_count": null,
   "id": "bc3c4fa3-3a0f-4762-a14c-4e2c6d4edbac",
   "metadata": {},
   "outputs": [],
   "source": []
  },
  {
   "cell_type": "code",
   "execution_count": null,
   "id": "26c202fa-82af-4fc3-836d-475c597e04c7",
   "metadata": {},
   "outputs": [],
   "source": [
    "# Calculate moving average"
   ]
  },
  {
   "cell_type": "code",
   "execution_count": null,
   "id": "9642e211-7da3-4871-966d-57e2872cfecd",
   "metadata": {},
   "outputs": [],
   "source": []
  },
  {
   "cell_type": "code",
   "execution_count": null,
   "id": "55d0ddb0-f176-4b16-aad1-02234f5204c6",
   "metadata": {},
   "outputs": [],
   "source": [
    "# Plot a graph"
   ]
  },
  {
   "cell_type": "code",
   "execution_count": null,
   "id": "04781004-4a8c-40ca-87aa-f906b27391df",
   "metadata": {},
   "outputs": [],
   "source": []
  },
  {
   "cell_type": "code",
   "execution_count": null,
   "id": "c934346e-5187-42a4-86ee-64e3636c3084",
   "metadata": {},
   "outputs": [],
   "source": [
    "# Define entries for long position"
   ]
  },
  {
   "cell_type": "code",
   "execution_count": null,
   "id": "3e39bea4-fb8f-44e9-bf6c-5633e9598caf",
   "metadata": {},
   "outputs": [],
   "source": []
  },
  {
   "cell_type": "code",
   "execution_count": null,
   "id": "446c8884-0510-444b-9861-e075fe1c0daf",
   "metadata": {},
   "outputs": [],
   "source": [
    "# Define exit for short position"
   ]
  },
  {
   "cell_type": "code",
   "execution_count": null,
   "id": "61b5f360-b9af-491f-a11f-b6d87f4d5eeb",
   "metadata": {},
   "outputs": [],
   "source": []
  },
  {
   "cell_type": "code",
   "execution_count": null,
   "id": "49fb0fd1-3d88-4cdc-8b4b-323830ecc065",
   "metadata": {},
   "outputs": [],
   "source": [
    "# Calculate the strategy balance"
   ]
  },
  {
   "cell_type": "code",
   "execution_count": null,
   "id": "ca41bb34-6ae3-479e-823c-d26713af26bb",
   "metadata": {},
   "outputs": [],
   "source": []
  },
  {
   "cell_type": "code",
   "execution_count": null,
   "id": "fe7dccb2-cf41-48da-8692-5d9037f2e005",
   "metadata": {},
   "outputs": [],
   "source": [
    "# Plot with the benchmark"
   ]
  },
  {
   "cell_type": "code",
   "execution_count": null,
   "id": "57bb4f11-5a35-4b37-93a4-50b869f265b0",
   "metadata": {},
   "outputs": [],
   "source": []
  },
  {
   "cell_type": "code",
   "execution_count": null,
   "id": "5159cf12-7778-4789-b6e9-a22eb0ca382c",
   "metadata": {},
   "outputs": [],
   "source": [
    "# Calculate strategy total return and CAGR"
   ]
  },
  {
   "cell_type": "code",
   "execution_count": null,
   "id": "70d8678a-7c04-4e9e-805c-7b287c10235a",
   "metadata": {},
   "outputs": [],
   "source": []
  },
  {
   "cell_type": "code",
   "execution_count": null,
   "id": "ba3626d6-c0f6-4bde-bb66-0e0581df63aa",
   "metadata": {},
   "outputs": [],
   "source": [
    "# Calculate standard deviation and sharpe ratio"
   ]
  },
  {
   "cell_type": "code",
   "execution_count": null,
   "id": "8c2c7e5b-1319-4d86-b0bb-2c6ffb5bd5d2",
   "metadata": {},
   "outputs": [],
   "source": []
  },
  {
   "cell_type": "code",
   "execution_count": null,
   "id": "df7fe94a-7d0c-4c3b-81d8-ab2ea9125124",
   "metadata": {},
   "outputs": [],
   "source": [
    "# Calculate benchmark drawdown"
   ]
  },
  {
   "cell_type": "code",
   "execution_count": null,
   "id": "83130e64-218b-41df-a108-660d956a7c28",
   "metadata": {},
   "outputs": [],
   "source": []
  },
  {
   "cell_type": "code",
   "execution_count": null,
   "id": "91749a27-31cb-4864-bb2e-66c82c8ec1cc",
   "metadata": {},
   "outputs": [],
   "source": [
    "# Summary of the strategy"
   ]
  },
  {
   "cell_type": "markdown",
   "id": "63174b0f-aa47-4949-a0a7-fbe2350b8173",
   "metadata": {},
   "source": [
    "### 4. Backtesting 11 EMA crossing the 49 EMA [Jalal here]"
   ]
  },
  {
   "cell_type": "code",
   "execution_count": null,
   "id": "61622b82-1372-4c0d-a64b-973ea83bff3e",
   "metadata": {},
   "outputs": [],
   "source": [
    "# Define variables\n",
    "fast_ma_4 = 11\n",
    "slow_ma_4 = 49"
   ]
  },
  {
   "cell_type": "code",
   "execution_count": null,
   "id": "16496db2-9072-4763-bc98-02cf5d86c2ea",
   "metadata": {},
   "outputs": [],
   "source": []
  },
  {
   "cell_type": "code",
   "execution_count": null,
   "id": "6f3a226c-4994-49b9-b810-c7bf15a7bea8",
   "metadata": {},
   "outputs": [],
   "source": [
    "# Calculate moving average"
   ]
  },
  {
   "cell_type": "code",
   "execution_count": null,
   "id": "0af68c99-12ca-4ecd-a9ec-05420b7fa8f1",
   "metadata": {},
   "outputs": [],
   "source": []
  },
  {
   "cell_type": "code",
   "execution_count": null,
   "id": "a02c16b9-748b-4bb3-8953-c402eab0b908",
   "metadata": {},
   "outputs": [],
   "source": [
    "# Plot a graph"
   ]
  },
  {
   "cell_type": "code",
   "execution_count": null,
   "id": "457827f9-5d1d-41a9-a176-6eccb3cd6a0b",
   "metadata": {},
   "outputs": [],
   "source": []
  },
  {
   "cell_type": "code",
   "execution_count": null,
   "id": "4abbc559-08ad-445b-ab68-47747e17d710",
   "metadata": {},
   "outputs": [],
   "source": [
    "# Define entries for long position"
   ]
  },
  {
   "cell_type": "code",
   "execution_count": null,
   "id": "737b7204-0bc3-4e3f-b7c5-da1e97c5bb22",
   "metadata": {},
   "outputs": [],
   "source": []
  },
  {
   "cell_type": "code",
   "execution_count": null,
   "id": "c3c91aec-9d94-44e0-8a51-60f1291d6f32",
   "metadata": {},
   "outputs": [],
   "source": [
    "# Define exit for short position"
   ]
  },
  {
   "cell_type": "code",
   "execution_count": null,
   "id": "3c588f05-1c36-42f7-be1b-970e2d8d5ff4",
   "metadata": {},
   "outputs": [],
   "source": []
  },
  {
   "cell_type": "code",
   "execution_count": null,
   "id": "6c7275e3-b498-4ad5-b1ad-6076dd5f44b0",
   "metadata": {},
   "outputs": [],
   "source": [
    "# Calculate the strategy balance"
   ]
  },
  {
   "cell_type": "code",
   "execution_count": null,
   "id": "2224c29e-c68a-497a-9508-fec627f4f524",
   "metadata": {},
   "outputs": [],
   "source": []
  },
  {
   "cell_type": "code",
   "execution_count": null,
   "id": "ab2e9d72-6040-4d3c-976d-f1a1f30c4b30",
   "metadata": {},
   "outputs": [],
   "source": [
    "# Plot with the benchmark"
   ]
  },
  {
   "cell_type": "code",
   "execution_count": null,
   "id": "f569d118-971a-4441-8023-4629a580d759",
   "metadata": {},
   "outputs": [],
   "source": []
  },
  {
   "cell_type": "code",
   "execution_count": null,
   "id": "a7f0ebc4-db52-42ce-bbda-cbdfbd4d580c",
   "metadata": {},
   "outputs": [],
   "source": [
    "# Calculate strategy total return and CAGR"
   ]
  },
  {
   "cell_type": "code",
   "execution_count": null,
   "id": "739177c4-f665-4f21-81ca-24cd8c9f70fa",
   "metadata": {},
   "outputs": [],
   "source": []
  },
  {
   "cell_type": "code",
   "execution_count": null,
   "id": "89dfcb9a-344c-4dde-ac8e-febec730a3df",
   "metadata": {},
   "outputs": [],
   "source": [
    "# Calculate standard deviation and sharpe ratio"
   ]
  },
  {
   "cell_type": "code",
   "execution_count": null,
   "id": "4c51902e-23ab-4db8-b6c3-83666301170b",
   "metadata": {},
   "outputs": [],
   "source": []
  },
  {
   "cell_type": "code",
   "execution_count": null,
   "id": "621bf9b0-e674-460b-a18c-95334892d4d3",
   "metadata": {},
   "outputs": [],
   "source": [
    "# Calculate benchmark drawdown"
   ]
  },
  {
   "cell_type": "code",
   "execution_count": null,
   "id": "0bd5afec-0af8-420e-a775-2e680418fed2",
   "metadata": {},
   "outputs": [],
   "source": []
  },
  {
   "cell_type": "code",
   "execution_count": null,
   "id": "1c0206c3-d4a2-4699-bb47-487d58bc8114",
   "metadata": {
    "tags": []
   },
   "outputs": [],
   "source": [
    "# Summary of the strategy"
   ]
  },
  {
   "cell_type": "code",
   "execution_count": null,
   "id": "76ac2b2e-dae0-4814-b716-5462b3561d8f",
   "metadata": {
    "tags": []
   },
   "outputs": [],
   "source": []
  },
  {
   "cell_type": "code",
   "execution_count": null,
   "id": "f19836ae-41fb-48d0-871f-8c798af917b4",
   "metadata": {
    "tags": []
   },
   "outputs": [],
   "source": []
  },
  {
   "cell_type": "markdown",
   "id": "e4cf1bf3-7331-41f4-ac29-126d906aa225",
   "metadata": {},
   "source": [
    "### 5. Strategy 5: Backtesting 9 EMA crossing the 20 EMA "
   ]
  },
  {
   "cell_type": "code",
   "execution_count": null,
   "id": "ea5835cd-c248-45dd-91db-3308696afe24",
   "metadata": {},
   "outputs": [],
   "source": [
    "# Define variables\n",
    "fast_ma_5 = 9\n",
    "slow_ma_5 = 20"
   ]
  },
  {
   "cell_type": "code",
   "execution_count": null,
   "id": "1dd9dc0a-9cc6-444d-8abc-23538e922ef6",
   "metadata": {
    "tags": []
   },
   "outputs": [],
   "source": [
    "# Calculate moving average for Strategy 5"
   ]
  },
  {
   "cell_type": "code",
   "execution_count": null,
   "id": "a8971867-b3a6-4064-a9ce-9d8b51ef7557",
   "metadata": {},
   "outputs": [],
   "source": [
    "strategy5 = price[[\"Close\"]]\n",
    "strategy5"
   ]
  },
  {
   "cell_type": "code",
   "execution_count": null,
   "id": "a129f81a-e844-4ddc-b0de-01317fb41f12",
   "metadata": {},
   "outputs": [],
   "source": [
    "strategy5[\"Fast EMA\"] = strategy5[\"Close\"].ewm(span=fast_ma_5, adjust=False,min_periods=fast_ma_5).mean()\n",
    "strategy5[\"Slow EMA\"] = strategy5[\"Close\"].ewm(span=slow_ma_5, adjust=False,min_periods=slow_ma_5).mean()\n",
    "strategy5"
   ]
  },
  {
   "cell_type": "code",
   "execution_count": null,
   "id": "a9783e30-d643-4e11-aba5-98a8630fedd0",
   "metadata": {},
   "outputs": [],
   "source": [
    "# Plot a graph\n",
    "def strategy5_plot ():\n",
    "    fig, ax = plt.subplots(figsize=(20, 10))\n",
    "    ax.plot(strategy5)\n",
    "    ax.set(xlabel = \"Year\",\n",
    "    ylabel = \"Price\")\n",
    "    plt.yticks(np.linspace(min_spy.min(), max_spy.max(),10))\n",
    "    ax.xaxis.set_major_formatter(mdates.DateFormatter('%Y'))\n",
    "    ax.xaxis.set_major_locator(mdates.YearLocator(1))\n",
    "    return strategy5_plot\n",
    "strategy5_plot()"
   ]
  },
  {
   "cell_type": "code",
   "execution_count": null,
   "id": "588b6037-fb54-42cd-acfa-8f5d29a3288a",
   "metadata": {},
   "outputs": [],
   "source": [
    "# Define entries for long position"
   ]
  },
  {
   "cell_type": "code",
   "execution_count": null,
   "id": "0941f041-abc8-4f5d-a10f-349c9ac8dc3b",
   "metadata": {},
   "outputs": [],
   "source": [
    "strategy5_return = pd.concat([strategy5,benchmark_spy],axis=1, join = \"inner\")\n",
    "strategy5_return[\"Long Position\"] = strategy5['Fast EMA'] > strategy5[\"Slow EMA\"]\n",
    "strategy5_return.head()"
   ]
  },
  {
   "cell_type": "code",
   "execution_count": null,
   "id": "bd580147-2b97-41ba-80d0-0a6bff90597a",
   "metadata": {},
   "outputs": [],
   "source": [
    "strategy5_return[\"Strategy5 Return\"] = np.where(strategy5_return[\"Long Position\"].shift(1) == True, strategy5_return[\"BM Daily Return\"], 0)\n",
    "strategy5_return.tail()"
   ]
  },
  {
   "cell_type": "code",
   "execution_count": null,
   "id": "7de3322f-c648-4aa7-bad7-9b29c8ecd469",
   "metadata": {},
   "outputs": [],
   "source": [
    "strategy5_return[\"Strategy5 Cumulative Return\"] = (1+ strategy5_return[\"Strategy5 Return\"]).cumprod()\n",
    "strategy5_return"
   ]
  },
  {
   "cell_type": "code",
   "execution_count": null,
   "id": "898233b0-8457-4a6a-b8bf-d73ff1293820",
   "metadata": {},
   "outputs": [],
   "source": [
    "# Plot with the benchmark\n",
    "def strategy5_return_plot ():\n",
    "    fig, ax = plt.subplots(figsize=(20, 10))\n",
    "    ax.plot(spy_daily_return[\"BM Cumulative Return\"])\n",
    "    ax.plot(strategy5_return[\"Strategy5 Cumulative Return\"])\n",
    "    ax.set(xlabel = \"Year\",\n",
    "    ylabel = \"Profit\")\n",
    "    ax.xaxis.set_major_formatter(mdates.DateFormatter('%Y'))\n",
    "    ax.xaxis.set_major_locator(mdates.YearLocator(1))\n",
    "    return strategy5_return_plot"
   ]
  },
  {
   "cell_type": "code",
   "execution_count": null,
   "id": "3b3cee05-6952-4c9f-bd7c-1a3c049966b7",
   "metadata": {
    "tags": []
   },
   "outputs": [],
   "source": [
    "strategy5_return_plot()"
   ]
  },
  {
   "cell_type": "code",
   "execution_count": null,
   "id": "9a05c60d-bad4-41d5-8275-1286e703862e",
   "metadata": {},
   "outputs": [],
   "source": [
    "# Calculate strategy total return and CAGR\n",
    "\n",
    "strategy5_total_return_pct = round((strategy5_return[\"Strategy5 Cumulative Return\"][-1]/strategy5_return[\"Strategy5 Cumulative Return\"][0] - 1) * 100, 2)\n",
    "strategy5_cagr_pct = round((((strategy5_return[\"Strategy5 Cumulative Return\"][-1]/strategy5_return[\"Strategy5 Cumulative Return\"][0])**(1/years))-1)*100,2)"
   ]
  },
  {
   "cell_type": "code",
   "execution_count": null,
   "id": "1123bb48-3dc4-4670-a012-24be4310f3f5",
   "metadata": {},
   "outputs": [],
   "source": [
    "print(strategy5_total_return_pct)\n",
    "print(strategy5_cagr_pct)"
   ]
  },
  {
   "cell_type": "code",
   "execution_count": null,
   "id": "38d4513e-bef1-4871-a149-e9c67ea8a202",
   "metadata": {},
   "outputs": [],
   "source": [
    "# Calculate standard deviation and sharpe ratio\n",
    "strategy5_annualized_std = strategy5_return[\"Strategy5 Return\"].std()*np.sqrt(252)\n",
    "strategy5_annualized_std"
   ]
  },
  {
   "cell_type": "code",
   "execution_count": null,
   "id": "678c6e41-a807-47f1-aa19-1e098ddf9fd2",
   "metadata": {},
   "outputs": [],
   "source": [
    "strategy5_sharpe_ratio = strategy5_return[\"Strategy5 Return\"].mean() * 252/strategy5_annualized_std\n",
    "strategy5_sharpe_ratio"
   ]
  },
  {
   "cell_type": "code",
   "execution_count": null,
   "id": "bd1508a9-2ef4-4471-9efc-b632beab0d52",
   "metadata": {},
   "outputs": [],
   "source": [
    "# Calculate Drawdown strategy 1\n",
    "strategy5_return[\"Strategy5 Peak Cummulative\"] =strategy5_return[\"Strategy5 Cumulative Return\"].cummax()\n",
    "strategy5_return[\"Strategy5 Daily Drawdown\"] = strategy5_return[\"Strategy5 Cumulative Return\"] - strategy5_return[\"Strategy5 Peak Cummulative\"]"
   ]
  },
  {
   "cell_type": "code",
   "execution_count": null,
   "id": "02af12d2-8f28-48cc-8791-cddba41ae8c6",
   "metadata": {},
   "outputs": [],
   "source": [
    "strategy5_drawdown_pct = round(((strategy5_return[\"Strategy5 Daily Drawdown\"]/ strategy5_return[\"Strategy5 Peak Cummulative\"]).min())*100,2)\n",
    "strategy5_drawdown_pct"
   ]
  },
  {
   "cell_type": "code",
   "execution_count": null,
   "id": "869926d3-9cd9-49d2-962a-41080b931730",
   "metadata": {},
   "outputs": [],
   "source": [
    "# Summary of the strategy1 "
   ]
  },
  {
   "cell_type": "code",
   "execution_count": null,
   "id": "990cee22-fb85-4d6d-8ec9-f397c33e0e5d",
   "metadata": {},
   "outputs": [],
   "source": [
    "df_summary.loc[\"Strategy \"] = pd.Series({ \"Total Return\" : strategy1_total_return_pct, \"CAGR\" : strategy1_cagr_pct, \"Annualized Standard Deviation\" : strategy1_annualized_std, \"Sharpe Ratio\" : strategy1_sharpe_ratio, \"Drawdown\" :strategy1_drawdown_pct})\n",
    "df_summary"
   ]
  },
  {
   "cell_type": "code",
   "execution_count": null,
   "id": "5df43a29-dbf8-463d-b000-8b675d56387e",
   "metadata": {},
   "outputs": [],
   "source": []
  },
  {
   "cell_type": "code",
   "execution_count": null,
   "id": "daf8fb72-8c82-46ef-9867-222db30bf3e6",
   "metadata": {},
   "outputs": [],
   "source": []
  },
  {
   "cell_type": "code",
   "execution_count": null,
   "id": "dbbbbb5e-08c9-44b4-9f30-c563681c531e",
   "metadata": {},
   "outputs": [],
   "source": []
  },
  {
   "cell_type": "markdown",
   "id": "780bf2d1-ac98-4fe2-9660-92b15150eb61",
   "metadata": {},
   "source": [
    "## IV. COMPARISON AMONG DIFFERENT STRATEGIES [DASHBOARD]"
   ]
  },
  {
   "cell_type": "code",
   "execution_count": null,
   "id": "c9767620-d69c-4bc9-ab50-fe056a455b3f",
   "metadata": {},
   "outputs": [],
   "source": []
  },
  {
   "cell_type": "markdown",
   "id": "97815e4e-5f11-4cc4-9404-fe1139fe7bd8",
   "metadata": {},
   "source": [
    "## V. CONCLUSION AND RECOMMENDATIONS"
   ]
  },
  {
   "cell_type": "code",
   "execution_count": null,
   "id": "c337f979-4212-44ad-a55d-b486a864f2e2",
   "metadata": {},
   "outputs": [],
   "source": []
  }
 ],
 "metadata": {
  "kernelspec": {
   "display_name": "Python 3",
   "language": "python",
   "name": "python3"
  },
  "language_info": {
   "codemirror_mode": {
    "name": "ipython",
    "version": 3
   },
   "file_extension": ".py",
   "mimetype": "text/x-python",
   "name": "python",
   "nbconvert_exporter": "python",
   "pygments_lexer": "ipython3",
   "version": "3.7.10"
  }
 },
 "nbformat": 4,
 "nbformat_minor": 5
}
